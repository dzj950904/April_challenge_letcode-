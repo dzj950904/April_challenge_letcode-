{
 "cells": [
  {
   "cell_type": "markdown",
   "metadata": {},
   "source": [
    "# 第二周\n",
    "\n",
    "(08.04.2020 - 14.04.2020)"
   ]
  },
  {
   "cell_type": "code",
   "execution_count": 1,
   "metadata": {},
   "outputs": [],
   "source": [
    "import numpy as np\n",
    "import matplotlib.pyplot as plt\n",
    "%matplotlib inline\n",
    "\n"
   ]
  },
  {
   "cell_type": "markdown",
   "metadata": {},
   "source": [
    "## 08.04   Middle of the Linked List\n",
    "\n",
    "Given a non-empty, singly linked list with head node head, return a middle node of linked list.\n",
    "\n",
    "If there are two middle nodes, return the second middle node.\n",
    "\n",
    " \n",
    "\n",
    "Example 1:\n",
    "\n",
    "    Input: [1,2,3,4,5]\n",
    "    Output: Node 3 from this list (Serialization: [3,4,5])\n",
    "The returned node has value 3.  (The judge's serialization of this node is [3,4,5]).\n",
    "Note that we returned a ListNode object ans, such that:\n",
    "ans.val = 3, ans.next.val = 4, ans.next.next.val = 5, and ans.next.next.next = NULL.\n",
    "\n",
    "Example 2:\n",
    "\n",
    "    Input: [1,2,3,4,5,6]\n",
    "    Output: Node 4 from this list (Serialization: [4,5,6])\n",
    "Since the list has two middle nodes with values 3 and 4, we return the second one.\n",
    "\n",
    "\n",
    "Note:\n",
    "\n",
    "The number of nodes in the given list will be between 1 and 100."
   ]
  },
  {
   "cell_type": "code",
   "execution_count": 19,
   "metadata": {},
   "outputs": [],
   "source": [
    "#class ListNode:\n",
    "#    def __init__(self, x):\n",
    "#        self.val = x\n",
    "#        self.next = None\n",
    "\n",
    "def middleNode(head:ListNode):\n",
    "        fast = slow = head\n",
    "        while fast and fast.next:\n",
    "            fast = fast.next.next\n",
    "            slow = slow.next\n",
    "        return slow"
   ]
  },
  {
   "cell_type": "markdown",
   "metadata": {},
   "source": [
    "用以测试的代码是数组[1,2,3,4,5]"
   ]
  },
  {
   "cell_type": "markdown",
   "metadata": {},
   "source": [
    "<table><tr><td bgcolor=#8A2BE2>\n",
    "本-题中应用两个指针，一快一慢，这样进行遍历可以在o(n)/2 的时间复杂度，o(1)的空间复杂度内完成。可以忽略单复数的情况。\n",
    "\n",
    "\n",
    "使用了linked list 链表概念。  \n",
    "\n",
    "单向链表示意图  \n",
    "\n",
    "（这是python内的图所以尾是None，C++是Null）\n",
    "\n",
    "  链表是通过一个个节点组成的，每个节点都包含了称为cargo的基本单元，它也是一种递归的数据结构。它能保持数据之间的逻辑顺序，但存储空间不必按照顺序存储。 \n"
   ]
  },
  {
   "cell_type": "markdown",
   "metadata": {},
   "source": [
    "***\n",
    "***"
   ]
  },
  {
   "cell_type": "markdown",
   "metadata": {},
   "source": [
    "## 09.04   Backspace String Compare\n",
    "\n",
    "\n",
    "Given two strings S and T, return if they are equal when both are typed into empty text editors.\n",
    "\n",
    "### means a backspace character.\n",
    "\n",
    "Example 1:\n",
    "\n",
    "    Input: S = \"ab#c\", T = \"ad#c\"\n",
    "    Output: true\n",
    "    Explanation: Both S and T become \"ac\".\n",
    "\n",
    "Example 2:\n",
    "\n",
    "    Input: S = \"ab##\", T = \"c#d#\"\n",
    "    Output: true\n",
    "    Explanation: Both S and T become \"\".\n",
    "\n",
    "Example 3:\n",
    "\n",
    "    Input: S = \"a##c\", T = \"#a#c\"\n",
    "    Output: true\n",
    "    Explanation: Both S and T become \"c\".\n",
    "\n",
    "Example 4:\n",
    "\n",
    "    Input: S = \"a#c\", T = \"b\"\n",
    "    Output: false\n",
    "    Explanation: S becomes \"c\" while T becomes \"b\".\n",
    "Note:\n",
    "\n",
    "    1 <= S.length <= 200\n",
    "\n",
    "    1 <= T.length <= 200\n",
    "\n",
    "    S and T only contain lowercase letters and '#' characters.\n",
    "Follow up:\n",
    "\n",
    "Can you solve it in O(N) time and O(1) space?\n"
   ]
  },
  {
   "cell_type": "code",
   "execution_count": 2,
   "metadata": {},
   "outputs": [],
   "source": [
    "class Solution:\n",
    "    def backspaceCompare(self, S: str, T: str) -> bool:\n",
    "        return self.change(S) == self.change(T)\n",
    "    def change(self,s):\n",
    "        dst = []\n",
    "        for i in s:\n",
    "            if i != \"#\":\n",
    "                dst.append(i)\n",
    "            elif dst:\n",
    "                dst.pop()\n",
    "        return dst \n",
    "    "
   ]
  },
  {
   "cell_type": "markdown",
   "metadata": {},
   "source": [
    "O(N) time and O(1) space.先内嵌一个change函数，对S与T进行处理后在比较输出返回值。"
   ]
  },
  {
   "cell_type": "markdown",
   "metadata": {},
   "source": [
    "***\n",
    "***"
   ]
  },
  {
   "cell_type": "markdown",
   "metadata": {},
   "source": [
    "## 10.04 Min Stack\n",
    "\n",
    "Design a stack that supports push, pop, top, and retrieving the minimum element in constant time.\n",
    "\n",
    "`•`push(x) -- Push element x onto stack.\n",
    "\n",
    "`•`pop() -- Removes the element on top of the stack.\n",
    "\n",
    "`•`top() -- Get the top element.\n",
    "\n",
    "`•`getMin() -- Retrieve the minimum element in the stack.\n",
    " \n",
    "\n",
    "### Example:\n",
    "\n",
    "    MinStack minStack = new MinStack();\n",
    "    minStack.push(-2);\n",
    "    minStack.push(0);\n",
    "    minStack.push(-3);\n",
    "    minStack.getMin();   --> Returns -3.\n",
    "    minStack.pop();\n",
    "    minStack.top();      --> Returns 0.\n",
    "    minStack.getMin();   --> Returns -2.\n",
    "\n"
   ]
  },
  {
   "cell_type": "code",
   "execution_count": 1,
   "metadata": {},
   "outputs": [],
   "source": [
    "class MinStack:\n",
    "\n",
    "    def __init__(self):\n",
    "        \"\"\"\n",
    "        initialize your data structure here.\n",
    "        \"\"\"\n",
    "        self.stack = []\n",
    "        \n",
    "\n",
    "    def push(self, x: int) -> None:\n",
    "        if not self.stack:\n",
    "            self.stack.append((x,x)) \n",
    "        else:\n",
    "            self.stack.append((x,min(x,self.stack[-1][1])))\n",
    "\n",
    "    def pop(self) -> None:\n",
    "        self.stack.pop()\n",
    "\n",
    "    def top(self) -> int:\n",
    "        if self.stack: \n",
    "            return self.stack[-1][0]\n",
    "        else: \n",
    "            return None\n",
    "\n",
    "    def getMin(self) -> int:\n",
    "        if self.stack: \n",
    "            return self.stack[-1][1]\n",
    "        else: \n",
    "            return None\n",
    "\n",
    "\n",
    "# Your MinStack object will be instantiated and called as such:\n",
    "# obj = MinStack()\n",
    "# obj.push(x)\n",
    "# obj.pop()\n",
    "# param_3 = obj.top()\n",
    "# param_4 = obj.getMin()"
   ]
  },
  {
   "cell_type": "code",
   "execution_count": null,
   "metadata": {},
   "outputs": [],
   "source": []
  },
  {
   "cell_type": "markdown",
   "metadata": {},
   "source": [
    "***\n",
    "***\n"
   ]
  },
  {
   "cell_type": "markdown",
   "metadata": {},
   "source": [
    "## 11.04 Diameter of Binary Tree\n",
    "\n",
    "Given a binary tree, you need to compute the length of the diameter of the tree. The diameter of a binary tree is the length of the longest path between any two nodes in a tree. This path may or may not pass through the root.\n",
    "\n",
    "### Example:\n",
    "Given a binary tree \n",
    "\n",
    "          1\n",
    "         / \\\n",
    "        2   3\n",
    "       / \\     \n",
    "      4   5    \n",
    "Return 3, which is the length of the path [4,2,1,3] or [5,2,1,3].\n",
    "\n",
    "Note: The length of path between two nodes is represented by the number of edges between them."
   ]
  },
  {
   "cell_type": "code",
   "execution_count": 1,
   "metadata": {},
   "outputs": [],
   "source": [
    "# Definition for a binary tree node.\n",
    "# class TreeNode:\n",
    "#     def __init__(self, x):\n",
    "#         self.val = x\n",
    "#         self.left = None\n",
    "#         self.right = None\n",
    "\n",
    "class Solution:\n",
    "    def diameterOfBinaryTree(self, root) -> int:\n",
    "        self.ans = 0\n",
    "        \n",
    "        def depth(p):\n",
    "            if not p: return 0\n",
    "            left, right = depth(p.left), depth(p.right)\n",
    "            self.ans = max(self.ans, left+right)\n",
    "            return 1 + max(left, right)\n",
    "            \n",
    "        depth(root)\n",
    "        return self.ans"
   ]
  },
  {
   "cell_type": "code",
   "execution_count": 2,
   "metadata": {},
   "outputs": [],
   "source": [
    "#for test\n",
    "imput = [1,2,3,4,5]"
   ]
  },
  {
   "cell_type": "markdown",
   "metadata": {},
   "source": [
    "***\n",
    "***"
   ]
  },
  {
   "cell_type": "markdown",
   "metadata": {},
   "source": [
    "# 12.04 Last Stone Weight\n",
    "\n",
    "We have a collection of stones, each stone has a positive integer weight.\n",
    "\n",
    "Each turn, we choose the two heaviest stones and smash them together.  Suppose the stones have weights x and y with x <= y.  The result of this smash is:\n",
    "\n",
    "`•`If x == y, both stones are totally destroyed;\n",
    "\n",
    "`•`If x != y, the stone of weight x is totally destroyed, and the stone of weight y has new weight y-x.\n",
    "\n",
    "At the end, there is at most 1 stone left.  Return the weight of this stone (or 0 if there are no stones left.)\n",
    "\n",
    " \n",
    "\n",
    "Example 1:\n",
    "\n",
    "    Input: [2,7,4,1,8,1]\n",
    "\n",
    "    Output: 1\n",
    "\n",
    "    Explanation: \n",
    "\n",
    "    We combine 7 and 8 to get 1 so the array converts to [2,4,1,1,1] then,\n",
    "\n",
    "    we combine 2 and 4 to get 2 so the array converts to [2,1,1,1] then,\n",
    "\n",
    "    we combine 2 and 1 to get 1 so the array converts to [1,1,1] then,\n",
    "\n",
    "    we combine 1 and 1 to get 0 so the array converts to [1] then that's the value of last stone.\n",
    " \n",
    "\n",
    "Note:\n",
    "\n",
    "`1.`1 <= stones.length <= 30\n",
    "\n",
    "`2.`1 <= stones[i] <= 1000"
   ]
  },
  {
   "cell_type": "code",
   "execution_count": 12,
   "metadata": {},
   "outputs": [],
   "source": [
    "def lastStoneWeight(stones) -> int:\n",
    "        #排序对比过程\n",
    "        while len(stones)>1:\n",
    "            stones.sort()#首先对列表进行排序\n",
    "            a,b = stones[-2],stones[-1]#取出最大的两个\n",
    "            stones.pop(-2)\n",
    "            stones.pop(-1)#删除已经用了的两个\n",
    "            if a!=b:\n",
    "                stones.append(b-a)#若不相同大，再加入待用列表\n",
    "\n",
    "        if len(stones)>0:#如果有最后剩下的，list就只有一个值\n",
    "            return stones[0]\n",
    "        else:#如果最后两个重量相同，此时列表为空\n",
    "            return 0"
   ]
  },
  {
   "cell_type": "code",
   "execution_count": 13,
   "metadata": {},
   "outputs": [
    {
     "data": {
      "text/plain": [
       "1"
      ]
     },
     "execution_count": 13,
     "metadata": {},
     "output_type": "execute_result"
    }
   ],
   "source": [
    "input = [2,7,4,1,8,1]\n",
    "lastStoneWeight(input)"
   ]
  },
  {
   "cell_type": "markdown",
   "metadata": {},
   "source": [
    "***\n",
    "***"
   ]
  },
  {
   "cell_type": "markdown",
   "metadata": {},
   "source": [
    "## 13.04 Contiguous Array\n",
    "\n",
    "Given a binary array, find the maximum length of a contiguous subarray with equal number of 0 and 1.\n",
    "\n",
    "### Example 1:\n",
    "\n",
    "    Input: [0,1]\n",
    "    Output: 2\n",
    "    Explanation: [0, 1] is the longest contiguous subarray with equal number of 0 and 1.\n",
    "\n",
    "\n",
    "### Example 2:\n",
    "\n",
    "    Input: [0,1,0]\n",
    "    Output: 2\n",
    "    Explanation: [0, 1] (or [1, 0]) is a longest contiguous subarray with equal number of 0 and 1.\n",
    "Note: The length of the given binary array will not exceed 50,000.\n"
   ]
  },
  {
   "cell_type": "code",
   "execution_count": null,
   "metadata": {},
   "outputs": [],
   "source": []
  },
  {
   "cell_type": "markdown",
   "metadata": {},
   "source": [
    "Tips:牛人的方法，遇0加1，遇1减1，如果和为0时则满足要求。\n",
    "\n",
    "附赠一个答案链接(https://leetcode.com/problems/contiguous-array/discuss/99655/Python-O(n)-Solution-with-Visual-Explanation)"
   ]
  },
  {
   "cell_type": "markdown",
   "metadata": {},
   "source": [
    "***\n",
    "***\n"
   ]
  },
  {
   "cell_type": "markdown",
   "metadata": {},
   "source": [
    " ## 14.04 Perform String Shifts\n",
    "\n",
    "You are given a string `s` containing lowercase English letters, and a matrix `shift`, where `shift[i] = [direction, amount]`:\n",
    "\n",
    "`direction` can be `0` (for left shift) or `1` (for right shift). \n",
    "`amount` is the amount by which string `s` is to be shifted.\n",
    "A left shift by 1 means remove the first character of `s` and append it to the end.\n",
    "Similarly, a right shift by 1 means remove the last character of `s` and add it to the beginning.\n",
    "Return the final string after all operations.\n",
    "\n",
    " \n",
    "\n",
    "Example 1:\n",
    "\n",
    "    Input: s = \"abc\", shift = [[0,1],[1,2]]\n",
    "    Output: \"cab\"\n",
    "    Explanation: \n",
    "    [0,1] means shift to left by 1. \"abc\" -> \"bca\"\n",
    "    [1,2] means shift to right by 2. \"bca\" -> \"cab\"\n",
    "Example 2:\n",
    "\n",
    "    Input: s = \"abcdefg\", shift = [[1,1],[1,1],[0,2],[1,3]]\n",
    "    Output: \"efgabcd\"\n",
    "    Explanation:  \n",
    "    [1,1] means shift to right by 1. \"abcdefg\" -> \"gabcdef\"\n",
    "    [1,1] means shift to right by 1. \"gabcdef\" -> \"fgabcde\"\n",
    "    [0,2] means shift to left by 2. \"fgabcde\" -> \"abcdefg\"\n",
    "    [1,3] means shift to right by 3. \"abcdefg\" -> \"efgabcd\"\n",
    " \n",
    "\n",
    "Constraints:\n",
    "\n",
    "`•`1 <= s.length <= 100\n",
    "\n",
    "`•`1s only contains lower case English letters.\n",
    "\n",
    "`•`11 <= shift.length <= 100\n",
    "\n",
    "`•`1shift[i].length == 2\n",
    "\n",
    "`•`10 <= shift[i][0] <= 1\n",
    "\n",
    "`•`10 <= shift[i][1] <= 100\n"
   ]
  },
  {
   "cell_type": "code",
   "execution_count": null,
   "metadata": {},
   "outputs": [],
   "source": [
    "def stringShift(s, shift):\n",
    "        mv = 0\n",
    "        for sh in shift:\n",
    "            mv += sh[1] if sh[0] == 1 else -sh[1]\n",
    "        mv %= len(s)\n",
    "        return s[-mv:] + s[:-mv]"
   ]
  },
  {
   "cell_type": "markdown",
   "metadata": {},
   "source": [
    "优秀答案！！"
   ]
  }
 ],
 "metadata": {
  "kernelspec": {
   "display_name": "Python 3",
   "language": "python",
   "name": "python3"
  },
  "language_info": {
   "codemirror_mode": {
    "name": "ipython",
    "version": 3
   },
   "file_extension": ".py",
   "mimetype": "text/x-python",
   "name": "python",
   "nbconvert_exporter": "python",
   "pygments_lexer": "ipython3",
   "version": "3.7.6-final"
  }
 },
 "nbformat": 4,
 "nbformat_minor": 4
}