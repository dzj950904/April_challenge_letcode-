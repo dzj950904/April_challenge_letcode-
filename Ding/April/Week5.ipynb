{
 "cells": [
  {
   "cell_type": "markdown",
   "metadata": {},
   "source": [
    "# 29.04  Binary Tree Maximum Path Sum\n",
    "\n",
    "\n",
    "Given a non-empty binary tree, find the maximum path sum.\n",
    "\n",
    "For this problem, a path is defined as any sequence of nodes from some starting node to any node in the tree along the parent-child connections. The path must contain at least one node and does not need to go through the root.\n",
    "\n",
    "### Example 1\n",
    "\n",
    "   Input: [1,2,3]\n",
    "\n",
    "         1\n",
    "        / \\\n",
    "       2   3\n",
    "\n",
    "   Output: 6\n",
    "### Example 2\n",
    "   Input: [-10,9,20,null,null,15,7]\n",
    "\n",
    "      -10\n",
    "      / \\\n",
    "     9  20\n",
    "       /  \\\n",
    "      15   7\n",
    "\n",
    "   Output: 42"
   ]
  },
  {
   "cell_type": "code",
   "execution_count": 1,
   "metadata": {},
   "outputs": [],
   "source": [
    "\n",
    "# Definition for a binary tree node.\n",
    "# class TreeNode:\n",
    "#     def __init__(self, val=0, left=None, right=None):\n",
    "#         self.val = val\n",
    "#         self.left = left\n",
    "#         self.right = right\n",
    "class Solution:\n",
    "    def maxPathSum(self, root) -> int:\n",
    "\n",
    "        def re(node):\n",
    "            if not node:\n",
    "                return [0,float('-inf')]\n",
    "            else:\n",
    "                res_l = re(node.left)\n",
    "                res_r = re(node.right)\n",
    "                double_max = res_l[0]+res_r[0]+node.val\n",
    "                single_max = max(res_l[0]+node.val,res_r[0]+node.val,node.val)\n",
    "                all_max = max(double_max,single_max,res_r[1],res_l[1])\n",
    "                res = [single_max,all_max]\n",
    "                return res\n",
    "\n",
    "        res = re(root)\n",
    "        return res[1]"
   ]
  },
  {
   "cell_type": "markdown",
   "metadata": {},
   "source": []
  },
  {
   "cell_type": "markdown",
   "metadata": {},
   "source": [
    "***\n",
    "***"
   ]
  },
  {
   "cell_type": "markdown",
   "metadata": {},
   "source": [
    "# 30.04 Check If a String Is a Valid Sequence from Root to Leaves Path in a Binary Tree\n",
    "\n",
    "Given a binary tree where each path going from the root to any leaf form a valid sequence, check if a given string is a valid sequence in such binary tree. \n",
    "\n",
    "We get the given string from the concatenation of an array of integers arr and the concatenation of all values of the nodes along a path results in a sequence in the given binary tree.\n",
    "\n",
    " \n",
    "## Example 1:\n",
    "    Input: root = [0,1,0,0,1,0,null,null,1,0,0], arr = [0,1,0,1]\n",
    "    Output: true\n",
    "Explanation: \n",
    "The path 0 -> 1 -> 0 -> 1 is a valid sequence (green color in the figure). \n",
    "Other valid sequences are: \n",
    "0 -> 1 -> 1 -> 0 \n",
    "0 -> 0 -> 0\n",
    "\n",
    "\n",
    "## Example 2:\n",
    "    Input: root = [0,1,0,0,1,0,null,null,1,0,0], arr = [0,0,1]\n",
    "    Output: false \n",
    "Explanation: The path 0 -> 0 -> 1 does not exist, therefore it is not even a sequence.\n",
    "\n",
    "## Example 3:\n",
    "    Input: root = [0,1,0,0,1,0,null,null,1,0,0], arr = [0,1,1]\n",
    "    Output: false\n",
    "Explanation: The path 0 -> 1 -> 1 is a sequence, but it is not a valid sequence.\n",
    " \n",
    "\n",
    "###Constraints:\n",
    "\n",
    "    1 <= arr.length <= 5000\n",
    "    0 <= arr[i] <= 9\n",
    "    Each node's value is between [0 - 9]."
   ]
  },
  {
   "cell_type": "markdown",
   "metadata": {},
   "source": [
    "## Hide Hint1  \n",
    "Depth-first search (DFS) with the parameters: current node in the binary tree and current position in the array of integers.\n",
    "## Hide Hint2  \n",
    "When reaching at final position check if it is a leaf node.\n",
    "\n",
    "\n",
    "可使用DFS"
   ]
  },
  {
   "cell_type": "code",
   "execution_count": null,
   "metadata": {},
   "outputs": [],
   "source": [
    "# Definition for a binary tree node.\n",
    "# class TreeNode:\n",
    "#     def __init__(self, val=0, left=None, right=None):\n",
    "#         self.val = val\n",
    "#         self.left = left\n",
    "#         self.right = right\n",
    "class Solution:\n",
    "    def isValidSequence(self, root: TreeNode, arr: List[int]) -> bool:\n",
    "        if not root: return False\n",
    "        def is_leaf(node):\n",
    "            #to certificate that this is the leaf \n",
    "            return node.left is None and node.right is None\n",
    "        def util(node,arr):\n",
    "            if (not arr and node) or (not node) or arr[0]!=node.val: \n",
    "                #arr or node false and the situation \n",
    "                #that the start of the test doesn't compaire\n",
    "                return False\n",
    "            if arr == [node.val] and is_leaf(node):\n",
    "                #if only one index\n",
    "                return True\n",
    "            if util(node.left,arr[1:]) or util(node.right,arr[1:]):\n",
    "                #ergodic, using arr[1:]to renew the arr \n",
    "                return True\n",
    "        return util(root,arr)"
   ]
  },
  {
   "cell_type": "markdown",
   "metadata": {},
   "source": [
    "套进去一个遍历，尾部完全相同则返回True，其中首先确定node只有一项的情况！"
   ]
  },
  {
   "cell_type": "markdown",
   "metadata": {},
   "source": [
    "恭喜恭喜30天挑战结束！｜"
   ]
  },
  {
   "cell_type": "code",
   "execution_count": null,
   "metadata": {},
   "outputs": [],
   "source": []
  }
 ],
 "metadata": {
  "language_info": {
   "codemirror_mode": {
    "name": "ipython",
    "version": 3
   },
   "file_extension": ".py",
   "mimetype": "text/x-python",
   "name": "python",
   "nbconvert_exporter": "python",
   "pygments_lexer": "ipython3",
   "version": "3.7.6-final"
  },
  "orig_nbformat": 2,
  "kernelspec": {
   "name": "python3",
   "display_name": "Python 3"
  }
 },
 "nbformat": 4,
 "nbformat_minor": 2
}