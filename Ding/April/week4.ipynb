{
 "cells": [
  {
   "cell_type": "markdown",
   "metadata": {},
   "source": [
    "# 22.04 Subarray Sum Equals K\n",
    "Given an array of integers and an integer k, you need to find the total number of continuous subarrays whose sum equals to k.\n",
    "\n",
    "Example 1:\n",
    "\n",
    "    Input:nums = [1,1,1], k = 2\n",
    "    Output: 2\n",
    "\n",
    "Note:\n",
    "\n",
    "The length of the array is in range `[1, 20,000]`.\n",
    "The range of numbers in the array is `[-1000, 1000]` and the range of the integer k is `[-1e7, 1e7]`."
   ]
  },
  {
   "cell_type": "markdown",
   "metadata": {},
   "source": [
    "###   Hide Hint #1  \n",
    "    Will Brute force work here? Try to optimize it.\n",
    "###   Hide Hint #2  \n",
    "    Can we optimize it by using some extra space?\n",
    "###   Hide Hint #3  \n",
    "    What about storing sum frequencies in a hash table? Will it be useful?\n",
    "###   Hide Hint #4  \n",
    "    sum(i,j)=sum(0,j)-sum(0,i), where sum(i,j) represents the sum of all the elements \n",
    "    from index i to j-1. Can we use this property to optimize it."
   ]
  },
  {
   "cell_type": "markdown",
   "metadata": {},
   "source": [
    "Brute Force太慢了，可以使用hashmap作为extra space。"
   ]
  },
  {
   "cell_type": "code",
   "execution_count": null,
   "metadata": {},
   "outputs": [],
   "source": [
    "class Solution(object):\n",
    "    def subarraySum(self, nums, k):\n",
    "        \"\"\"\n",
    "        :type nums: List[int]\n",
    "        :type k: int\n",
    "        :rtype: int\n",
    "        \"\"\"\n",
    "        count = 0\n",
    "        sums = 0\n",
    "        d = dict()\n",
    "        d[0] = 1\n",
    "        \n",
    "        for i in range(len(nums)):\n",
    "            sums += nums[i]\n",
    "            count += d.get(sums-k,0) #如果有sums-k就返回key对应值，否则返回0\n",
    "            d[sums] = d.get(sums,0) + 1\n",
    "        \n",
    "        return(count)"
   ]
  },
  {
   "cell_type": "markdown",
   "metadata": {},
   "source": [
    "Just wanted to share a clear explanation that helped me.\n",
    "\n",
    "First of all, the basic idea behind this code is that, whenever the sums has increased by a value of k, we've found a subarray of sums=k.\n",
    "I'll also explain why we need to initialise a 0 in the hashmap.\n",
    "Example: Let's say our elements are [1,2,1,3] and k = 3.\n",
    "and our corresponding running sums = [1,3,4,7]\n",
    "Now, if you notice the running sums array, from 1->4, there is increase of k and from 4->7, there is an increase of k. So, we've found 2 subarrays of sums=k.\n",
    "\n",
    "But, if you look at the original array, there are 3 subarrays of sums==k. Now, you'll understand why 0 comes in the picture.\n",
    "\n",
    "In the above example, 4-1=k and 7-4=k. Hence, we concluded that there are 2 subarrays.\n",
    "However, if sums==k, it should've been 3-0=k. But 0 is not present in the array. To account for this case, we include the 0.\n",
    "Now the modified sums array will look like [0,1,3,4,7]. Now, try to see for the increase of k.\n",
    "\n",
    "0->3\n",
    "1->4\n",
    "4->7\n",
    "Hence, 3 sub arrays of sums=k\n",
    "This clarified some confusions I had while doing this problem.\n",
    "\n",
    "\n",
    "[原文链接](https://leetcode.com/problems/subarray-sum-equals-k/discuss/341399/Python-clear-explanation-with-code-and-example)\n",
    "\n",
    "\n"
   ]
  },
  {
   "cell_type": "markdown",
   "metadata": {},
   "source": [
    "***\n",
    "***"
   ]
  },
  {
   "cell_type": "markdown",
   "metadata": {},
   "source": [
    "# 23.04 Bitwise AND of Numbers Range\n",
    "\n",
    "Given a range `[m, n]` where 0 <= m <= n <= 2147483647, return the bitwise AND of all numbers in this range, inclusive.\n",
    "\n",
    "Example 1:\n",
    "\n",
    "    Input: [5,7]\n",
    "    Output: 4\n",
    "\n",
    "Example 2:\n",
    "\n",
    "    Input: [0,1]\n",
    "    Output: 0"
   ]
  },
  {
   "cell_type": "code",
   "execution_count": null,
   "metadata": {},
   "outputs": [],
   "source": [
    "class Solution:\n",
    "    def rangeBitwiseAnd(self, m: int, n: int) -> int:\n",
    "        i = 0 \n",
    "        while m!=n:\n",
    "            n >>= 1\n",
    "            m >>= 1\n",
    "            i += 1\n",
    "        return m << i"
   ]
  },
  {
   "cell_type": "markdown",
   "metadata": {},
   "source": [
    "经典的位运算题目，并不用遍历所有范围内的数字，通过nm的二进制向右移动找到最大的相同“头部”，这段是在递增区间内不会变的。然后再向左计位补零得到输出值。\n"
   ]
  },
  {
   "cell_type": "markdown",
   "metadata": {},
   "source": [
    "***\n",
    "***"
   ]
  },
  {
   "cell_type": "markdown",
   "metadata": {},
   "source": [
    "# 24.04   LRU Cache\n",
    "\n",
    "Design and implement a data structure for [Least Recently Used (LRU) cache](https://en.wikipedia.org/wiki/Cache_replacement_policies#LRU). It should support the following operations: `get` and `put`.\n",
    "\n",
    "`get(key)` - Get the value (will always be positive) of the key if the key exists in the cache, otherwise return -1.\n",
    "\n",
    "`put(key, value)` - Set or insert the value if the key is not already present. When the cache reached its capacity, it should invalidate the least recently used item before inserting a new item.\n",
    "\n",
    "The cache is initialized with a positive capacity.\n",
    "\n",
    "### Follow up:\n",
    "Could you do both operations in O(1) time complexity?\n",
    "\n",
    "### Example:\n",
    "\n",
    "    LRUCache cache = new LRUCache( 2 /* capacity */ );\n",
    "\n",
    "    cache.put(1, 1);\n",
    "    \n",
    "    cache.put(2, 2);\n",
    "    \n",
    "    cache.get(1);       // returns 1\n",
    "    \n",
    "    cache.put(3, 3);    // evicts key 2\n",
    "    \n",
    "    cache.get(2);       // returns -1 (not found)\n",
    "    \n",
    "    cache.put(4, 4);    // evicts key 1\n",
    "    \n",
    "    cache.get(1);       // returns -1 (not found)\n",
    "    \n",
    "    cache.get(3);       // returns 3\n",
    "    \n",
    "    cache.get(4);       // returns 4\n"
   ]
  },
  {
   "cell_type": "code",
   "execution_count": 2,
   "metadata": {},
   "outputs": [],
   "source": [
    "class LRUCache:\n",
    "    def __init__(self, capacity):\n",
    "        self.deque = collections.deque([])\n",
    "        self.dic = {}\n",
    "        self.capacity = capacity\n",
    "\n",
    "    def get(self, key):\n",
    "        if key not in self.dic:\n",
    "            return -1\n",
    "        self.deque.remove(key)\n",
    "        self.deque.append(key)\n",
    "        return self.dic[key]\n",
    "\n",
    "    def set(self, key, value):\n",
    "        if key in self.dic:    \n",
    "            self.deque.remove(key)\n",
    "        elif len(self.dic) == self.capacity:\n",
    "            v = self.deque.popleft()  # remove the Least Recently Used element\n",
    "            self.dic.pop(v)\n",
    "        self.deque.append(key)\n",
    "        self.dic[key] = value \n",
    "\n",
    "# Your LRUCache object will be instantiated and called as such:\n",
    "# obj = LRUCache(capacity)\n",
    "# param_1 = obj.get(key)\n",
    "# obj.put(key,value)"
   ]
  },
  {
   "cell_type": "code",
   "execution_count": null,
   "metadata": {},
   "outputs": [],
   "source": []
  },
  {
   "cell_type": "markdown",
   "metadata": {},
   "source": [
    "***\n",
    "***"
   ]
  },
  {
   "cell_type": "markdown",
   "metadata": {},
   "source": [
    "# 25.04 Jump Game\n",
    "\n",
    "Given an array of non-negative integers, you are initially positioned at the first index of the array.\n",
    "\n",
    "Each element in the array represents your maximum jump length at that position.\n",
    "\n",
    "Determine if you are able to reach the last index.\n",
    "\n",
    "### Example 1:\n",
    "\n",
    "    Input: [2,3,1,1,4]\n",
    "    Output: true\n",
    "Explanation: Jump 1 step from index 0 to 1, then 3 steps to the last index.\n",
    "\n",
    "### Example 2:\n",
    "\n",
    "    Input: [3,2,1,0,4]\n",
    "    Output: false\n",
    "Explanation: You will always arrive at index 3 no matter what. Its maximum\n",
    "             jump length is 0, which makes it impossible to reach the last index."
   ]
  },
  {
   "cell_type": "code",
   "execution_count": null,
   "metadata": {},
   "outputs": [],
   "source": [
    "class Solution:\n",
    "    def canJump(self, nums: List[int]) -> bool:\n",
    "        dst = len(nums) - 1\n",
    "        for i in range(len(nums))[::-1]:\n",
    "            if i + nums[i] >= dst:\n",
    "                dst = i\n",
    "        return not dst\n",
    "            "
   ]
  },
  {
   "cell_type": "markdown",
   "metadata": {},
   "source": [
    "使用反向算法，从倒数第一位逐步遍历确认每一位的可能性，如果最后遍历到表头则返回True，中间出现断层则False。\n",
    "\n",
    "也可以使用贪心算法"
   ]
  },
  {
   "cell_type": "markdown",
   "metadata": {},
   "source": [
    "***\n",
    "***"
   ]
  },
  {
   "cell_type": "markdown",
   "metadata": {},
   "source": [
    "# 26.04 Longest Common Subsequence\n",
    "\n",
    "Given two strings `text1` and `text2`, return the length of their longest common subsequence.\n",
    "\n",
    "A subsequence of a string is a new string generated from the original string with some characters(can be none) deleted without changing the relative order of the remaining characters. (eg, \"ace\" is a subsequence of \"abcde\" while \"aec\" is not). A common subsequence of two strings is a subsequence that is common to both strings.\n",
    "\n",
    " \n",
    "\n",
    "If there is no common subsequence, return 0.\n",
    "\n",
    " \n",
    "\n",
    "### Example 1:\n",
    "    Input: text1 = \"abcde\", text2 = \"ace\" \n",
    "    Output: 3  \n",
    "    Explanation: The longest common subsequence is \"ace\" and its length is 3.\n",
    "\n",
    "### Example 2:\n",
    "    Input: text1 = \"abc\", text2 = \"abc\"\n",
    "    Output: 3\n",
    "    Explanation: The longest common subsequence is \"abc\" and its length is 3.\n",
    "\n",
    "\n",
    "### Example 3:\n",
    "    Input: text1 = \"abc\", text2 = \"def\"\n",
    "    Output: 0\n",
    "    Explanation: There is no such common subsequence, so the result is 0.\n",
    " \n",
    "\n",
    "### Constraints:\n",
    "* 1 <= text1.length <= 1000\n",
    "* 1 <= text2.length <= 1000\n",
    "* The input strings consist of lowercase English characters only."
   ]
  },
  {
   "cell_type": "markdown",
   "metadata": {},
   "source": [
    "### Hide Hint 1  \n",
    "    Try dynamic programming. DP[i][j] represents the longest common subsequence of text1[0 ... i] & text2[0 ... j].\n",
    "\n",
    "\n",
    "### Hide Hint #2  \n",
    "    DP[i][j] = DP[i - 1][j - 1] + 1 , if text1[i] == text2[j] DP[i][j] = max(DP[i - 1][j], DP[i][j - 1]) , otherwise"
   ]
  },
  {
   "cell_type": "code",
   "execution_count": null,
   "metadata": {},
   "outputs": [],
   "source": [
    "class Solution:\n",
    "    def longestCommonSubsequence(self, text1: str, text2: str) -> int:\n",
    "        a,b=len(text1),len(text2)\n",
    "        dp=[[0]*(b+1) for _ in range(a+1)]#extend the range of 1\n",
    "        for i in range(a):\n",
    "            for j in range(b):\n",
    "                if text1[i]==text2[j]:\n",
    "                    dp[i+1][j+1]=dp[i][j]+1#update the dp\n",
    "                else:\n",
    "                    dp[i+1][j+1]=max(dp[i][j+1],dp[i+1][j])#doesn't change the dp\n",
    "        return dp[-1][-1]#the biggest value"
   ]
  },
  {
   "cell_type": "markdown",
   "metadata": {},
   "source": [
    "动态规划！！！先设定一个dp矩阵作为存储数据。然后进行遍历比较，如果有符合条件则dp加1，不符合取前一位最大值不断更新，最终输出dp末尾的zhi"
   ]
  },
  {
   "cell_type": "markdown",
   "metadata": {},
   "source": [
    "***\n",
    "***"
   ]
  },
  {
   "cell_type": "markdown",
   "metadata": {},
   "source": [
    "# 27.04 Maximal Square\n",
    "\n",
    "Given a 2D binary matrix filled with 0's and 1's, find the largest square containing only 1's and return its area.\n",
    "\n",
    "### Example:\n",
    "\n",
    "    Input: \n",
    "\n",
    "    1 0 1 0 0\n",
    "    1 0 1 1 1\n",
    "    1 1 1 1 1\n",
    "    1 0 0 1 0\n",
    "\n",
    "    Output: 4"
   ]
  },
  {
   "cell_type": "code",
   "execution_count": null,
   "metadata": {},
   "outputs": [],
   "source": [
    "class Solution:\n",
    "    def maximalSquare(self, matrix: List[List[str]]) -> int:\n",
    "        if not matrix: return 0\n",
    "        m , n = len(matrix), len(matrix[0])\n",
    "        dp = [[0]*(n+1) for _ in range(m+1)]\n",
    "        dst=0#the len of the destination\n",
    "        for i in range(m):\n",
    "            for j in range (n):\n",
    "                if matrix[i][j]=='1':\n",
    "                    dp[i+1][j+1]= min(dp[i][j+1],dp[i+1][j],dp[i][j]) + 1\n",
    "                    dst = max(dst,dp[i+1][j+1])\n",
    "        return dst*dst\n",
    "                    "
   ]
  },
  {
   "cell_type": "markdown",
   "metadata": {},
   "source": [
    "***\n",
    "***\n"
   ]
  },
  {
   "cell_type": "markdown",
   "metadata": {},
   "source": [
    "# 小总结一下DP算法三步！！！\n",
    "<table><tr><td bgcolor=#8A2BE2>1，初始化Dp矩阵，维度记得+1.\n",
    "\n",
    "    m , n = len(matrix), len(matrix[0])\n",
    "    dp = [[0]*(n+1) for _ in range(m+1)]\n",
    "\n",
    "<table><tr><td bgcolor=#8A2BE2>2，遍历一波，遇到条件符合累加1.\n",
    "\n",
    "\n",
    "    for i in range(m):\n",
    "        for j in range (n):\n",
    "            if matrix[i][j]=='1':\n",
    "                dp[i+1][j+1]= min(dp[i][j+1],dp[i+1][j],dp[i][j]) + 1\n",
    "                dst = max(dst,dp[i+1][j+1])\n",
    "\n",
    "<table><tr><td bgcolor=#8A2BE2>3，输出。26号是把之前最大的记录传送到最后，输出了dp[-1][-1]。27号的是每次更新dp时候也在更新dst。"
   ]
  },
  {
   "cell_type": "markdown",
   "metadata": {},
   "source": [
    "***\n",
    "***"
   ]
  },
  {
   "cell_type": "markdown",
   "metadata": {},
   "source": [
    "# 28.04 First Unique Number\n",
    "\n",
    "You have a queue of integers, you need to retrieve the first unique integer in the queue.\n",
    "\n",
    "Implement the FirstUnique class:\n",
    "\n",
    "FirstUnique(int[] nums) Initializes the object with the numbers in the queue.\n",
    "int showFirstUnique() returns the value of the first unique integer of the queue, and returns -1 if there is no such integer.\n",
    "void add(int value) insert value to the queue.\n",
    " \n",
    "\n",
    "### Example 1:\n",
    "\n",
    "   Input: \n",
    "   [\"FirstUnique\",\"showFirstUnique\",\"add\",\"showFirstUnique\",\"add\",\"showFirstUnique\",\"add\",\"showFirstUnique\"]\n",
    "   [[[2,3,5]],[],[5],[],[2],[],[3],[]]\n",
    "   Output: \n",
    "   [null,2,null,2,null,3,null,-1]\n",
    "\n",
    "   Explanation: \n",
    "   FirstUnique firstUnique = new FirstUnique([2,3,5]);\n",
    "   firstUnique.showFirstUnique(); // return 2\n",
    "   firstUnique.add(5);            // the queue is now [2,3,5,5]\n",
    "   firstUnique.showFirstUnique(); // return 2\n",
    "   firstUnique.add(2);            // the queue is now [2,3,5,5,2]\n",
    "   firstUnique.showFirstUnique(); // return 3\n",
    "   firstUnique.add(3);            // the queue is now [2,3,5,5,2,3]\n",
    "   firstUnique.showFirstUnique(); // return -1\n",
    "\n",
    "### Example 2:\n",
    "\n",
    "Input: \n",
    "[\"FirstUnique\",\"showFirstUnique\",\"add\",\"add\",\"add\",\"add\",\"add\",\"showFirstUnique\"]\n",
    "[[[7,7,7,7,7,7]],[],[7],[3],[3],[7],[17],[]]\n",
    "Output: \n",
    "[null,-1,null,null,null,null,null,17]\n",
    "\n",
    "Explanation: \n",
    "FirstUnique firstUnique = new FirstUnique([7,7,7,7,7,7]);\n",
    "firstUnique.showFirstUnique(); // return -1\n",
    "firstUnique.add(7);            // the queue is now [7,7,7,7,7,7,7]\n",
    "firstUnique.add(3);            // the queue is now [7,7,7,7,7,7,7,3]\n",
    "firstUnique.add(3);            // the queue is now [7,7,7,7,7,7,7,3,3]\n",
    "firstUnique.add(7);            // the queue is now [7,7,7,7,7,7,7,3,3,7]\n",
    "firstUnique.add(17);           // the queue is now [7,7,7,7,7,7,7,3,3,7,17]\n",
    "firstUnique.showFirstUnique(); // return 17\n",
    "\n",
    "### Example 3:\n",
    "\n",
    "Input: \n",
    "[\"FirstUnique\",\"showFirstUnique\",\"add\",\"showFirstUnique\"]\n",
    "[[[809]],[],[809],[]]\n",
    "Output: \n",
    "[null,809,null,-1]\n",
    "\n",
    "Explanation: \n",
    "FirstUnique firstUnique = new FirstUnique([809]);\n",
    "firstUnique.showFirstUnique(); // return 809\n",
    "firstUnique.add(809);          // the queue is now [809,809]\n",
    "firstUnique.showFirstUnique(); // return -1\n",
    "\n",
    " \n",
    "\n",
    "### Constraints:\n",
    "   1 <= nums.length <= 10^5\n",
    "   1 <= nums[i] <= 10^8\n",
    "   1 <= value <= 10^8\n",
    "   At most 50000 calls will be made to showFirstUnique and add.\n",
    "### Hide Hint #1  \n",
    "Use doubly Linked list with hashmap of pointers to linked list nodes. add unique number to the linked list. When add is called check if the added number is unique then it have to be added to the linked list and if it is repeated remove it from the linked list if exists. When showFirstUnique is called retrieve the head of the linked list.\n",
    "### Hide Hint #2  \n",
    "Use queue and check that first element of the queue is always unique.\n",
    "### Hide Hint #3  \n",
    "Use set or heap to make running time of each function O(logn).\n"
   ]
  },
  {
   "cell_type": "code",
   "execution_count": null,
   "metadata": {},
   "outputs": [],
   "source": [
    "class FirstUnique:\n",
    "\n",
    "    def __init__(self, nums: List[int]):\n",
    "        self.dic = collections.deque()\n",
    "        self.all = {}\n",
    "        for num in nums:\n",
    "            self.add(num)\n",
    "\n",
    "    def showFirstUnique(self) -> int:\n",
    "        if len(self.dic)==0: return -1\n",
    "        while len(self.dic)>0 and self.all[self.dic[0]]>=2:\n",
    "            self.dic.popleft()        \n",
    "        if len(self.dic)==0: return -1\n",
    "        return self.dic[0]\n",
    "\n",
    "    def add(self, value: int) -> None:\n",
    "        if value in self.all:\n",
    "            self.all[value] += 1\n",
    "        else:\n",
    "            self.all[value] = 1\n",
    "        \n",
    "        self.dic.append(value)\n",
    "\n",
    "\n",
    "# Your FirstUnique object will be instantiated and called as such:\n",
    "# obj = FirstUnique(nums)\n",
    "# param_1 = obj.showFirstUnique()\n",
    "# obj.add(value)"
   ]
  }
 ],
 "metadata": {
  "language_info": {
   "codemirror_mode": {
    "name": "ipython",
    "version": 3
   },
   "file_extension": ".py",
   "mimetype": "text/x-python",
   "name": "python",
   "nbconvert_exporter": "python",
   "pygments_lexer": "ipython3",
   "version": "3.7.6-final"
  },
  "orig_nbformat": 2,
  "kernelspec": {
   "name": "python3",
   "display_name": "Python 3"
  }
 },
 "nbformat": 4,
 "nbformat_minor": 2
}