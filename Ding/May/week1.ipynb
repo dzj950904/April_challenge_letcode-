{
 "cells": [
  {
   "cell_type": "markdown",
   "metadata": {},
   "source": [
    "# 01.05 First Bad Version\n",
    "\n",
    "You are a product manager and currently leading a team to develop a new product. Unfortunately, the latest version of your product fails the quality check. Since each version is developed based on the previous version, all the versions after a bad version are also bad.\n",
    "\n",
    "Suppose you have n versions [1, 2, ..., n] and you want to find out the first bad one, which causes all the following ones to be bad.\n",
    "\n",
    "You are given an API bool isBadVersion(version) which will return whether version is bad. Implement a function to find the first bad version. You should minimize the number of calls to the API.\n",
    "\n",
    "### Example:\n",
    "\n",
    "    Given n = 5, and version = 4 is the first bad version.\n",
    "\n",
    "    call isBadVersion(3) -> false\n",
    "    call isBadVersion(5) -> true\n",
    "    call isBadVersion(4) -> true\n",
    "\n",
    "    Then 4 is the first bad version. "
   ]
  },
  {
   "cell_type": "code",
   "execution_count": null,
   "metadata": {},
   "outputs": [],
   "source": [
    "# The isBadVersion API is already defined for you.\n",
    "# @param version, an integer\n",
    "# @return a bool\n",
    "# def isBadVersion(version):\n",
    "\n",
    "class Solution:\n",
    "    def firstBadVersion(self, n):\n",
    "        \"\"\"\n",
    "        :type n: int\n",
    "        :rtype: int\n",
    "        \"\"\"\n",
    "        r = n-1\n",
    "        l = 0\n",
    "        while(l<=r):\n",
    "            mid = l + (r-l)//2\n",
    "            if isBadVersion(mid)==False:\n",
    "                l = mid+1\n",
    "            else:\n",
    "                r = mid-1\n",
    "        return l"
   ]
  },
  {
   "cell_type": "markdown",
   "metadata": {},
   "source": []
  },
  {
   "cell_type": "markdown",
   "metadata": {},
   "source": [
    "***\n",
    "***"
   ]
  },
  {
   "cell_type": "markdown",
   "metadata": {},
   "source": [
    "# 02.05  Jewels and Stones\n",
    "\n",
    "You're given strings J representing the types of stones that are jewels, and S representing the stones you have.  Each character in S is a type of stone you have.  You want to know how many of the stones you have are also jewels.\n",
    "\n",
    "The letters in J are guaranteed distinct, and all characters in J and S are letters. Letters are case sensitive, so \"a\" is considered a different type of stone from \"A\".\n",
    "\n",
    "### Example 1:\n",
    "\n",
    "   Input: J = \"aA\", S = \"aAAbbbb\"\n",
    "   Output: 3\n",
    "\n",
    "\n",
    "### Example 2:\n",
    "\n",
    "   Input: J = \"z\", S = \"ZZ\"\n",
    "   Output: 0\n",
    "\n",
    "\n",
    "### Note:\n",
    "\n",
    "S and J will consist of letters and have length at most 50.\n",
    "The characters in J are distinct.\n",
    " \n",
    "### Hide Hint 1  \n",
    "\n",
    "   For each stone, check if it is a jewel."
   ]
  },
  {
   "cell_type": "code",
   "execution_count": null,
   "metadata": {},
   "outputs": [],
   "source": [
    "class Solution:\n",
    "    def numJewelsInStones(self, J: str, S: str) -> int:\n",
    "        return sum(map(J.count,S))\n",
    "        "
   ]
  },
  {
   "cell_type": "markdown",
   "metadata": {},
   "source": [
    "## !!!!!附加好题记录\n",
    "\n",
    "## Squares of a Sorted Array\n",
    "\n",
    "Given an array of integers A sorted in non-decreasing order, return an array of the squares of each number, also in sorted non-decreasing order.\n",
    "\n",
    " \n",
    "\n",
    "Example 1:\n",
    "\n",
    "    Input: [-4,-1,0,3,10]\n",
    "    Output: [0,1,9,16,100]\n",
    "\n",
    "\n",
    "Example 2:\n",
    "\n",
    "    Input: [-7,-3,2,3,11]\n",
    "    Output: [4,9,9,49,121]\n",
    " \n",
    "\n",
    "Note:\n",
    "\n",
    "    1 <= A.length <= 10000\n",
    "    -10000 <= A[i] <= 10000\n",
    "    A is sorted in non-decreasing order."
   ]
  },
  {
   "cell_type": "code",
   "execution_count": null,
   "metadata": {},
   "outputs": [],
   "source": [
    "class Solution:\n",
    "    def sortedSquares(self, A: List[int]) -> List[int]:\n",
    "        start, end = 0, len(A)-1\n",
    "        ans = []\n",
    "        while start <= end:\n",
    "            if abs(A[start]) < abs(A[end]):\n",
    "                ans.append(A[end] ** 2)\n",
    "                end -= 1\n",
    "            elif abs(A[start]) > abs(A[end]):\n",
    "                ans.append(A[start] ** 2)\n",
    "                start += 1\n",
    "            else:\n",
    "                ans.append(A[start] ** 2)\n",
    "                if start != end:\n",
    "                    ans.append(A[end] ** 2)\n",
    "                start += 1\n",
    "                end -= 1\n",
    "        return ans[::-1]"
   ]
  },
  {
   "cell_type": "markdown",
   "metadata": {},
   "source": [
    "很好的思路，选取到正负值的交界处然后用binary search的方法，不断append模最小值的平方去达成平方值的排序\n"
   ]
  },
  {
   "cell_type": "markdown",
   "metadata": {},
   "source": [
    "***\n",
    "***"
   ]
  },
  {
   "cell_type": "markdown",
   "metadata": {},
   "source": [
    "# 03.05 Ransom Note\n",
    "\n",
    "Given an arbitrary ransom note string and another string containing letters from all the magazines, write a function that will return true if the ransom note can be constructed from the magazines ; otherwise, it will return false.\n",
    "\n",
    "Each letter in the magazine string can only be used once in your ransom note.\n",
    "\n",
    "### Note:\n",
    "You may assume that both strings contain only lowercase letters.\n",
    "\n",
    "    canConstruct(\"a\", \"b\") -> false\n",
    "    canConstruct(\"aa\", \"ab\") -> false\n",
    "    canConstruct(\"aa\", \"aab\") -> true"
   ]
  },
  {
   "cell_type": "code",
   "execution_count": 1,
   "metadata": {},
   "outputs": [],
   "source": [
    "class Solution:\n",
    "    def canConstruct(self, ransomNote: str, magazine: str) -> bool:\n",
    "        return all(ransomNote.count(letter) <= magazine.count(letter) for letter in set(ransomNote))"
   ]
  },
  {
   "cell_type": "markdown",
   "metadata": {},
   "source": [
    "这个不需要区分顺序所以比较简单，只要把每个ransomnote中的每个字母count小于等于magazine中的就好"
   ]
  },
  {
   "cell_type": "markdown",
   "metadata": {},
   "source": [
    "问：如果是算顺序的怎么办？抓取到每个magazine中与ransomNote首字母相同的，遍历出相同则返回true"
   ]
  },
  {
   "cell_type": "code",
   "execution_count": null,
   "metadata": {},
   "outputs": [],
   "source": [
    "class Solution:\n",
    "    def canConstruct(self, ransomNote: str, magazine: str) -> bool:\n",
    "        for i in range len(magazine):\n",
    "            if ransomNote[0]==magazine[i]:\n",
    "                return all(ransomNote[j]==magazine[i+j] for j in range len(ransomNote))\n",
    "        return False"
   ]
  },
  {
   "cell_type": "markdown",
   "metadata": {},
   "source": [
    "***\n",
    "***"
   ]
  },
  {
   "cell_type": "markdown",
   "metadata": {},
   "source": [
    "# 04.05 Number Complement\n"
   ]
  },
  {
   "cell_type": "markdown",
   "metadata": {},
   "source": [
    "Given a positive integer, output its complement number. The complement strategy is to flip the bits of its binary representation.\n",
    "\n",
    " \n",
    "\n",
    "### Example 1:\n",
    "\n",
    "    Input: 5\n",
    "    Output: 2\n",
    "    Explanation: The binary representation of 5 is 101 (no leading zero bits), and its complement is 010. So you need to output 2.\n",
    " \n",
    "\n",
    "### Example 2:\n",
    "\n",
    "    Input: 1\n",
    "    Output: 0\n",
    "    Explanation: The binary representation of 1 is 1 (no leading zero bits), and its complement is 0. So you need to output 0.\n",
    " \n",
    "\n",
    "### Note:\n",
    "\n",
    "    The given integer is guaranteed to fit within the range of a 32-bit signed integer.\n",
    "    You could assume no leading zero bit in the integer’s binary representation.\n",
    "    This question is the same as 1009: https://leetcode.com/problems/complement-of-base-10-integer/"
   ]
  },
  {
   "cell_type": "code",
   "execution_count": null,
   "metadata": {},
   "outputs": [],
   "source": [
    "class Solution:\n",
    "    def findComplement(self, num: int) -> int:\n",
    "        tmp = 1 #0000001 in binary\n",
    "        while tmp<=num:#including the state of num=1\n",
    "            tmp*=2#one more bit\n",
    "        return tmp-1-num#get its complement number"
   ]
  },
  {
   "cell_type": "markdown",
   "metadata": {},
   "source": [
    "***\n",
    "***"
   ]
  },
  {
   "cell_type": "markdown",
   "metadata": {},
   "source": [
    "# 05.05  First Unique Character in a String\n"
   ]
  },
  {
   "cell_type": "markdown",
   "metadata": {},
   "source": [
    "Given a string, find the first non-repeating character in it and return it's index. If it doesn't exist, return -1.\n",
    "\n",
    "## Examples:\n",
    "\n",
    "    s = \"leetcode\"\n",
    "    return 0.\n",
    "\n",
    "\n",
    "    s = \"loveleetcode\",\n",
    "    return 2.\n",
    "\n",
    "### Note: You may assume the string contain only lowercase letters."
   ]
  },
  {
   "cell_type": "code",
   "execution_count": null,
   "metadata": {},
   "outputs": [],
   "source": [
    "class Solution:\n",
    "    def firstUniqChar(self, s: str) -> int:\n",
    "        d = {}\n",
    "        for l in s:\n",
    "            if l not in d: d[l] = 1\n",
    "            else: d[l] += 1\n",
    "        \n",
    "        i = 0\n",
    "        while i in range(len(s)):\n",
    "            if d[s[i]]==1:\n",
    "                return i\n",
    "            else: i += 1\n",
    "        return -1"
   ]
  }
 ],
 "metadata": {
  "language_info": {
   "codemirror_mode": {
    "name": "ipython",
    "version": 3
   },
   "file_extension": ".py",
   "mimetype": "text/x-python",
   "name": "python",
   "nbconvert_exporter": "python",
   "pygments_lexer": "ipython3",
   "version": "3.7.6-final"
  },
  "orig_nbformat": 2,
  "kernelspec": {
   "name": "python3",
   "display_name": "Python 3"
  }
 },
 "nbformat": 4,
 "nbformat_minor": 2
}