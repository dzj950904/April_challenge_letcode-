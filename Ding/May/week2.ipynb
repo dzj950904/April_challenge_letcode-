{
 "cells": [
  {
   "cell_type": "markdown",
   "metadata": {},
   "source": [
    "# 08.05 Check If It Is a Straight Line"
   ]
  },
  {
   "cell_type": "markdown",
   "metadata": {},
   "source": [
    "You are given an array coordinates, coordinates[i] = [x, y], where [x, y] represents the coordinate of a point. Check if these points make a straight line in the XY plane.\n",
    "\n",
    " \n",
    "\n",
    " \n",
    "\n",
    "Example 1:\n",
    "   Input: coordinates = [[1,2],[2,3],[3,4],[4,5],[5,6],[6,7]]\n",
    "   output: true\n",
    "\n",
    "Example 2:\n",
    "\n",
    "   Input: coordinates = [[1,1],[2,2],[3,4],[4,5],[5,6],[7,7]]\n",
    "   Output: false\n",
    " \n",
    "\n",
    "Constraints:\n",
    "```\n",
    "   2 <= coordinates.length <= 1000\n",
    "   coordinates[i].length == 2\n",
    "   -10^4 <= coordinates[i][0], coordinates[i][1] <= 10^4\n",
    "   coordinates contains no duplicate point.\n",
    "```\n",
    "### Hide Hint #1  \n",
    "If there're only 2 points, return true.\n",
    "### Hide Hint #2  \n",
    "Check if all other points lie on the line defined by the first 2 points.\n",
    "### Hide Hint #3  \n",
    "Use cross product to check collinearity."
   ]
  },
  {
   "cell_type": "code",
   "execution_count": null,
   "metadata": {},
   "outputs": [],
   "source": [
    "class Solution:\n",
    "    def checkStraightLine(self, coordinates: List[List[int]]) -> bool:\n",
    "        (x0, y0), (x1, y1) = coordinates[: 2]\n",
    "        return all((x1 - x0) * (y - y1) == (x - x1) * (y1 - y0) for x, y in coordinates)"
   ]
  },
  {
   "cell_type": "markdown",
   "metadata": {},
   "source": [
    "***\n",
    "***\n"
   ]
  },
  {
   "cell_type": "markdown",
   "metadata": {},
   "source": [
    "# 09.05 valid perfekt square    \n",
    "\n",
    "Given a positive integer num, write a function which returns True if num is a perfect square else False.\n",
    "\n",
    "    Note: Do not use any built-in library function such as sqrt.\n",
    "\n",
    "### Example 1:\n",
    "\n",
    "    Input: 16\n",
    "    Output: true\n",
    "\n",
    "### Example 2:\n",
    "\n",
    "    Input: 14\n",
    "    Output: false"
   ]
  },
  {
   "cell_type": "code",
   "execution_count": null,
   "metadata": {},
   "outputs": [],
   "source": [
    "class Solution:\n",
    "    def isPerfectSquare(self, num: int) -> bool:\n",
    "        i = 1\n",
    "        while (i*i) < (num+1):\n",
    "            if i*i==num:\n",
    "                return True\n",
    "            else: i+=1\n",
    "        return False"
   ]
  },
  {
   "cell_type": "markdown",
   "metadata": {},
   "source": [
    "***\n",
    "***"
   ]
  },
  {
   "cell_type": "markdown",
   "metadata": {},
   "source": [
    "# 10.05 Find the Town Judge\n",
    "\n"
   ]
  },
  {
   "cell_type": "markdown",
   "metadata": {},
   "source": [
    "In a town, there are N people labelled from 1 to N.  There is a rumor that one of these people is secretly the town judge.\n",
    "\n",
    "If the town judge exists, then:\n",
    "\n",
    "The town judge trusts nobody.\n",
    "Everybody (except for the town judge) trusts the town judge.\n",
    "There is exactly one person that satisfies properties 1 and 2.\n",
    "You are given trust, an array of pairs trust[i] = [a, b] representing that the person labelled a trusts the person labelled b.\n",
    "\n",
    "If the town judge exists and can be identified, return the label of the town judge.  Otherwise, return -1.\n",
    "\n",
    " \n",
    "\n",
    "### Example 1:\n",
    "\n",
    "    Input: N = 2, trust = [[1,2]]\n",
    "    Output: 2\n",
    "\n",
    "### Example 2:\n",
    "\n",
    "    Input: N = 3, trust = [[1,3],[2,3]]\n",
    "    Output: 3\n",
    "\n",
    "\n",
    "### Example 3:\n",
    "\n",
    "    Input: N = 3, trust = [[1,3],[2,3],[3,1]]\n",
    "    Output: -1\n",
    "\n",
    "### Example 4:\n",
    "\n",
    "    Input: N = 3, trust = [[1,2],[2,3]]\n",
    "    Output: -1\n",
    "\n",
    "### Example 5:\n",
    "\n",
    "    Input: N = 4, trust = [[1,3],[1,4],[2,3],[2,4],[4,3]]\n",
    "    Output: 3\n",
    " \n",
    "\n",
    "### Note:\n",
    "\n",
    "    1 <= N <= 1000\n",
    "    trust.length <= 10000\n",
    "    trust[i] are all different\n",
    "    trust[i][0] != trust[i][1]\n",
    "    1 <= trust[i][0], trust[i][1] <= N"
   ]
  },
  {
   "cell_type": "code",
   "execution_count": null,
   "metadata": {},
   "outputs": [],
   "source": [
    "class Solution:\n",
    "    def findJudge(self, N, trust):\n",
    "        count = [0] * (N + 1)\n",
    "        for i, j in trust:\n",
    "            count[i] -= 1\n",
    "            count[j] += 1\n",
    "        for i in range(1, N + 1):\n",
    "            if count[i] == N - 1:\n",
    "                return i\n",
    "        return -1"
   ]
  },
  {
   "cell_type": "code",
   "execution_count": null,
   "metadata": {},
   "outputs": [],
   "source": [
    "#超时的暴力版本\n",
    "\n",
    "if not (N-1):return 1\n",
    "        dst=[-1]\n",
    "        for i in range(N+1):\n",
    "            sum=0\n",
    "            tmp=True\n",
    "            for j in range(len(trust)):\n",
    "                if trust[j][1]==i:\n",
    "                    sum+=1\n",
    "            for j in range(len(trust)):\n",
    "                if trust[j][0]==i:\n",
    "                    tmp=False\n",
    "            if sum==(N-1) and tmp:\n",
    "                dst.append(i)\n",
    "        if len(dst)==2:\n",
    "            return dst[1]\n",
    "        else: \n",
    "            return -1"
   ]
  },
  {
   "cell_type": "markdown",
   "metadata": {},
   "source": [
    "***\n",
    "***"
   ]
  },
  {
   "cell_type": "markdown",
   "metadata": {},
   "source": [
    "# 11.05  Flood fill (DFS)\n",
    "\n",
    "An image is represented by a 2-D array of integers, each integer representing the pixel value of the image (from 0 to 65535).\n",
    "\n",
    "Given a coordinate (sr, sc) representing the starting pixel (row and column) of the flood fill, and a pixel value newColor, \"flood fill\" the image.\n",
    "\n",
    "To perform a \"flood fill\", consider the starting pixel, plus any pixels connected 4-directionally to the starting pixel of the same color as the starting pixel, plus any pixels connected 4-directionally to those pixels (also with the same color as the starting pixel), and so on. Replace the color of all of the aforementioned pixels with the newColor.\n",
    "\n",
    "At the end, return the modified image.\n",
    "\n",
    "### Example 1:\n",
    "```\n",
    "Input: \n",
    "image = [[1,1,1],[1,1,0],[1,0,1]]\n",
    "sr = 1, sc = 1, newColor = 2\n",
    "Output: [[2,2,2],[2,2,0],[2,0,1]]\n",
    "Explanation: \n",
    "From the center of the image (with position (sr, sc) = (1, 1)), all pixels connected \n",
    "by a path of the same color as the starting pixel are colored with the new color.\n",
    "Note the bottom corner is not colored 2, because it is not 4-directionally connected\n",
    "to the starting pixel.\n",
    "```\n",
    "\n",
    "### Note:\n",
    "\n",
    "The length of image and image[0] will be in the range [1, 50].\n",
    "The given starting pixel will satisfy 0 <= sr < image.length and 0 <= sc < image[0].length.\n",
    "The value of each color in image[i][j] and newColor will be an integer in [0, 65535].\n",
    "   Hide Hint #1  \n",
    "Write a recursive function that paints the pixel if it's the correct color, then recurses on neighboring pixels."
   ]
  },
  {
   "cell_type": "code",
   "execution_count": null,
   "metadata": {},
   "outputs": [],
   "source": [
    "class Solution:\n",
    "    def floodFill(self, image: List[List[int]], sr: int, sc: int, newColor: int) -> List[List[int]]:\n",
    "        if image[sr][sc]==newColor : return image\n",
    "        m = len(image)\n",
    "        n = len(image[0])\n",
    "        startColor = image[sr][sc]\n",
    "        def dfs(r,c):\n",
    "            if image[r][c]==startColor:\n",
    "                image[r][c]=newColor\n",
    "                if r>0:dfs(r-1,c)\n",
    "                if r<m-1:dfs(r+1,c)\n",
    "                if c>0:dfs(r,c-1)\n",
    "                if c<n-1:dfs(r,c+1)\n",
    "        dfs(sr,sc)\n",
    "        return image\n",
    "                "
   ]
  },
  {
   "cell_type": "markdown",
   "metadata": {},
   "source": [
    "***\n",
    "***"
   ]
  },
  {
   "cell_type": "code",
   "execution_count": null,
   "metadata": {},
   "outputs": [],
   "source": []
  }
 ],
 "metadata": {
  "language_info": {
   "codemirror_mode": {
    "name": "ipython",
    "version": 3
   },
   "file_extension": ".py",
   "mimetype": "text/x-python",
   "name": "python",
   "nbconvert_exporter": "python",
   "pygments_lexer": "ipython3",
   "version": "3.7.6-final"
  },
  "orig_nbformat": 2,
  "kernelspec": {
   "name": "python3",
   "display_name": "Python 3"
  }
 },
 "nbformat": 4,
 "nbformat_minor": 2
}