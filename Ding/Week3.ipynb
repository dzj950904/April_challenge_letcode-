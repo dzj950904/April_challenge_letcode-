{
 "nbformat": 4,
 "nbformat_minor": 2,
 "metadata": {
  "language_info": {
   "name": "python",
   "codemirror_mode": {
    "name": "ipython",
    "version": 3
   },
   "version": "3.7.3-final"
  },
  "orig_nbformat": 2,
  "file_extension": ".py",
  "mimetype": "text/x-python",
  "name": "python",
  "npconvert_exporter": "python",
  "pygments_lexer": "ipython3",
  "version": 3,
  "kernelspec": {
   "name": "8664ce0d-6a5a-4e39-a450-5d79a1656da3",
   "display_name": "'Python Interactive'"
  }
 },
 "cells": [
  {
   "cell_type": "markdown",
   "metadata": {},
   "source": [
    "##15.04 Product of Array Except Self\n",
    "\n",
    "Given an array `nums` of n integers where n > 1,  return an array `output` such that `output[i]` is equal to the product of all the elements of `nums` except `nums[i]`.\n",
    "\n",
    "Example:\n",
    "\n",
    "    Input:  [1,2,3,4]\n",
    "    Output: [24,12,8,6]\n",
    "\n",
    "Constraint: It's guaranteed that the product of the elements of any prefix or suffix of the array (including the whole array) fits in a 32 bit integer.\n",
    "\n",
    "Note: Please solve it without division and in O(n).\n",
    "\n",
    "Follow up:Could you solve it with constant space complexity? (The output array does not count as extra space for the purpose of space complexity analysis.)"
   ]
  },
  {
   "cell_type": "code",
   "execution_count": 1,
   "metadata": {},
   "outputs": [],
   "source": [
    "def productExceptSelf(nums):\n",
    "        # The length of the input array \n",
    "        length = len(nums)\n",
    "        \n",
    "        # The answer array to be returned\n",
    "        answer = [0]*length\n",
    "        \n",
    "        # answer[i] contains the product of all the elements to the left\n",
    "        # Note: for the element at index '0', there are no elements to the left,\n",
    "        # so the answer[0] would be 1\n",
    "        answer[0] = 1\n",
    "        for i in range(1, length):\n",
    "            \n",
    "            # answer[i - 1] already contains the product of elements to the left of 'i - 1'\n",
    "            # Simply multiplying it with nums[i - 1] would give the product of all \n",
    "            # elements to the left of index 'i'\n",
    "            answer[i] = nums[i - 1] * answer[i - 1]\n",
    "        \n",
    "        # R contains the product of all the elements to the right\n",
    "        # Note: for the element at index 'length - 1', there are no elements to the right,\n",
    "        # so the R would be 1\n",
    "        R = 1\n",
    "        for i in reversed(range(length)):\n",
    "            \n",
    "            # For the index 'i', R would contain the \n",
    "            # product of all elements to the right. We update R accordingly\n",
    "            answer[i] = answer[i] * R\n",
    "            R *= nums[i]\n",
    "        \n",
    "        return answer\n",
    "\n",
    ""
   ]
  },
  {
   "cell_type": "markdown",
   "metadata": {},
   "source": [
    "先使用从左侧的遍历，得出暂时的从左面所有的乘积，再遍历一次从右面的。\n",
    "设定一个空array，后面再加一个指针。优秀优秀\n"
   ]
  },
  {
   "cell_type": "markdown",
   "metadata": {},
   "source": [
    "***\n",
    "***"
   ]
  },
  {
   "cell_type": "code",
   "execution_count": null,
   "metadata": {},
   "outputs": [],
   "source": []
  }
 ]
}