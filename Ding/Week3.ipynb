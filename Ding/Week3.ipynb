{
 "cells": [
  {
   "cell_type": "markdown",
   "metadata": {},
   "source": [
    "## 15.04 Product of Array Except Self\n",
    "\n",
    "Given an array `nums` of n integers where n > 1,  return an array `output` such that `output[i]` is equal to the product of all the elements of `nums` except `nums[i]`.\n",
    "\n",
    "Example:\n",
    "\n",
    "    Input:  [1,2,3,4]\n",
    "    Output: [24,12,8,6]\n",
    "\n",
    "Constraint: It's guaranteed that the product of the elements of any prefix or suffix of the array (including the whole array) fits in a 32 bit integer.\n",
    "\n",
    "Note: Please solve it without division and in O(n).\n",
    "\n",
    "Follow up:Could you solve it with constant space complexity? (The output array does not count as extra space for the purpose of space complexity analysis.)"
   ]
  },
  {
   "cell_type": "code",
   "execution_count": 1,
   "metadata": {},
   "outputs": [],
   "source": [
    "def productExceptSelf(nums):\n",
    "        # The length of the input array \n",
    "        length = len(nums)\n",
    "        \n",
    "        # The answer array to be returned\n",
    "        answer = [0]*length\n",
    "        \n",
    "        # answer[i] contains the product of all the elements to the left\n",
    "        # Note: for the element at index '0', there are no elements to the left,\n",
    "        # so the answer[0] would be 1\n",
    "        answer[0] = 1\n",
    "        for i in range(1, length):\n",
    "            \n",
    "            # answer[i - 1] already contains the product of elements to the left of 'i - 1'\n",
    "            # Simply multiplying it with nums[i - 1] would give the product of all \n",
    "            # elements to the left of index 'i'\n",
    "            answer[i] = nums[i - 1] * answer[i - 1]\n",
    "        \n",
    "        # R contains the product of all the elements to the right\n",
    "        # Note: for the element at index 'length - 1', there are no elements to the right,\n",
    "        # so the R would be 1\n",
    "        R = 1\n",
    "        for i in reversed(range(length)):\n",
    "            \n",
    "            # For the index 'i', R would contain the \n",
    "            # product of all elements to the right. We update R accordingly\n",
    "            answer[i] = answer[i] * R\n",
    "            R *= nums[i]\n",
    "        \n",
    "        return answer\n",
    "\n"
   ]
  },
  {
   "cell_type": "markdown",
   "metadata": {},
   "source": [
    "先使用从左侧的遍历，得出暂时的从左面所有的乘积，再遍历一次从右面的。\n",
    "设定一个空array，后面再加一个指针。优秀优秀\n"
   ]
  },
  {
   "cell_type": "markdown",
   "metadata": {},
   "source": [
    "***\n",
    "***"
   ]
  },
  {
   "cell_type": "markdown",
   "metadata": {},
   "source": [
    "# 16.04 Valid Parenthesis String\n",
    "\n",
    "\n",
    "Given a string containing only three types of characters: '(', ')' and '*', write a function to check whether this string is valid. We define the validity of a string by these rules:\n",
    "\n",
    "`1`Any left parenthesis '(' must have a corresponding right parenthesis ')'.\n",
    "`2`Any right parenthesis ')' must have a corresponding left parenthesis '('.\n",
    "`3`Left parenthesis '(' must go before the corresponding right parenthesis ')'.\n",
    "`4`'*' could be treated as a single right parenthesis ')' or a single left parenthesis '(' or an empty string.\n",
    "`5`An empty string is also valid.\n",
    "\n",
    "### Example 1:\n",
    "\n",
    "    Input: \"()\"\n",
    "    Output: True\n",
    "\n",
    "### Example 2:\n",
    "\n",
    "    Input: \"(*)\"\n",
    "    Output: True\n",
    "\n",
    "### Example 3:\n",
    "\n",
    "    Input: \"(*))\"\n",
    "    Output: True\n",
    "\n",
    "### Note:\n",
    "    The string size will be in the range [1, 100]."
   ]
  },
  {
   "cell_type": "code",
   "execution_count": 2,
   "metadata": {},
   "outputs": [],
   "source": [
    "def checkValidString(s) -> bool:\n",
    "        low=high=0\n",
    "        for c in s:\n",
    "            if c=='(':\n",
    "                low += 1\n",
    "                high += 1\n",
    "            elif c==')':\n",
    "                low -=1\n",
    "                high -=1\n",
    "            else:\n",
    "                low -=1\n",
    "                high +=1\n",
    "            if high < 0: break\n",
    "            low = max(low,0)\n",
    "        \n",
    "        return low == 0\n",
    "\n",
    ""
   ]
  },
  {
   "cell_type": "markdown",
   "metadata": {},
   "source": [
    "Let diff be count of left parenthesis minus count of right parenthesis.\n",
    "\n",
    "When we meet:\n",
    "\n",
    "    (, we increment diff.\n",
    "    ), we decrement diff.\n",
    "    *, we have three choices which makes the diff become a range -- [diff - 1, diff + 1].\n",
    "So we use maxDiff/minDiff to record the maximum/minimum diff we can get.\n",
    "\n",
    "When we meet:\n",
    "\n",
    "    (, ++maxDiff and ++minDiff.\n",
    "    ), --maxDiff and --minDiff.\n",
    "    *, ++maxDiff and --minDiff.\n",
    "\n",
    "If maxDiff become negative, it means it's already invalid, we should return false.\n",
    "\n",
    "Whenever minDiff falls below 0, we should force it to be 0 because we never accept negative diff during the process.\n",
    "\n",
    "After scanning through string s, as long as minDiff is 0, this string can be a valid one.\n",
    "\n",
    "选用两个diff指针（low和high），遍历操作。\"（\"对diff不会造成任何影响所以设置加一，\"）\"会消耗一个左括号，\"*\""
   ]
  },
  {
   "cell_type": "markdown",
   "metadata": {},
   "source": [
    "***\n",
    "***"
   ]
  },
  {
   "cell_type": "markdown",
   "metadata": {},
   "source": [
    "# 17.04 Number of Islands\n",
    "\n",
    "Given a 2d grid map of '1's (land) and '0's (water), count the number of islands. An island is surrounded by water and is formed by connecting adjacent lands horizontally or vertically. You may assume all four edges of the grid are all surrounded by water.\n",
    "\n",
    "Example 1:\n",
    "\n",
    "    Input:\n",
    "        11110\n",
    "        11010\n",
    "        11000\n",
    "        00000\n",
    "\n",
    "    Output: 1\n",
    "\n",
    "Example 2:\n",
    "\n",
    "    Input:\n",
    "        11000\n",
    "        11000\n",
    "        00100\n",
    "        00011\n",
    "\n",
    "    Output: 3"
   ]
  },
  {
   "cell_type": "code",
   "execution_count": 1,
   "metadata": {},
   "outputs": [],
   "source": [
    "def numIslands(self, grid):\n",
    "    if not grid:\n",
    "        return 0\n",
    "        \n",
    "    count = 0\n",
    "    for i in range(len(grid)):\n",
    "        for j in range(len(grid[0])):\n",
    "            if grid[i][j] == '1':\n",
    "                self.dfs(grid, i, j)\n",
    "                count += 1\n",
    "    return count\n",
    "\n",
    "def dfs(self, grid, i, j):\n",
    "    if i<0 or j<0 or i>=len(grid) or j>=len(grid[0]) or grid[i][j] != '1':\n",
    "        return\n",
    "    grid[i][j] = '#'\n",
    "    self.dfs(grid, i+1, j)\n",
    "    self.dfs(grid, i-1, j)\n",
    "    self.dfs(grid, i, j+1)\n",
    "    self.dfs(grid, i, j-1)"
   ]
  },
  {
   "cell_type": "markdown",
   "metadata": {},
   "source": [
    "使用DFS算法（好难。。。）\n"
   ]
  },
  {
   "cell_type": "markdown",
   "metadata": {},
   "source": [
    "***\n",
    "***"
   ]
  },
  {
   "cell_type": "markdown",
   "metadata": {},
   "source": [
    "# 18.04 Minimum Path Sum\n",
    "Given a m x n grid filled with non-negative numbers, find a path from top left to bottom right which minimizes the sum of all numbers along its path.\n",
    "\n",
    "### Note:\n",
    "You can only move either down or right at any point in time.\n",
    "\n",
    "### Example:\n",
    "\n",
    "    Input:\n",
    "     [[1,3,1],\n",
    "      [1,5,1],\n",
    "      [4,2,1]]\n",
    "    Output: 7\n",
    "    \n",
    "    \n",
    "### Explanation:\n",
    "Because the path 1→3→1→1→1 minimizes the sum."
   ]
  },
  {
   "cell_type": "code",
   "execution_count": null,
   "metadata": {},
   "outputs": [],
   "source": []
  },
  {
   "cell_type": "markdown",
   "metadata": {},
   "source": [
    "传说中的动态规划问题。。。"
   ]
  },
  {
   "cell_type": "markdown",
   "metadata": {},
   "source": [
    "***\n",
    "***"
   ]
  },
  {
   "cell_type": "markdown",
   "metadata": {},
   "source": [
    "# 19.04  Search in Rotated Sorted Array\n",
    "\n",
    "Suppose an array sorted in ascending order is rotated at some pivot unknown to you beforehand.\n",
    "\n",
    "(i.e.` [0,1,2,4,5,6,7]`might become`[4,5,6,7,0,1,2]`).\n",
    "\n",
    "You are given a target value to search. If found in the array return its index, otherwise return `-1`.\n",
    "\n",
    "You may assume no duplicate exists in the array.\n",
    "\n",
    "Your algorithm's runtime complexity must be in the order of O(log n).\n",
    "\n",
    "### Example 1:\n",
    "\n",
    "    Input: nums = [4,5,6,7,0,1,2], target = 0\n",
    "    Output: 4\n",
    "\n",
    "### Example 2:\n",
    "\n",
    "    Input: nums = [4,5,6,7,0,1,2], target = 3\n",
    "    Output: -1"
   ]
  },
  {
   "cell_type": "code",
   "execution_count": null,
   "metadata": {},
   "outputs": [],
   "source": [
    "class Solution:\n",
    "    def search(self, nums: List[int], target: int) -> int:\n",
    "        #first test wheter in the array\n",
    "        if not nums:\n",
    "            return -1 \n",
    "       \n",
    "        l, r = 0, len(nums) - 1\n",
    "        while l + 1 < r:\n",
    "            mid = (l + r) //2\n",
    "            if nums[mid] >= nums[l]:\n",
    "                if nums[l] <= target <= nums[mid]:\n",
    "                    r = mid\n",
    "                else:\n",
    "                    l = mid\n",
    "            else:\n",
    "                if nums[mid] <= target <= nums[r]:\n",
    "                    l = mid\n",
    "                else:\n",
    "                    r = mid\n",
    "        if nums[l] == target:\n",
    "            return l\n",
    "        if nums[r] == target:\n",
    "            return r\n",
    "        return -1"
   ]
  },
  {
   "cell_type": "markdown",
   "metadata": {},
   "source": [
    "这个题规定了是一个sorted Array，所以很容易。用binary search!经典！"
   ]
  },
  {
   "cell_type": "markdown",
   "metadata": {},
   "source": [
    "***\n",
    "***"
   ]
  },
  {
   "cell_type": "markdown",
   "metadata": {},
   "source": [
    "# 20.04 Construct Binary Search Tree from Preorder Traversal\n",
    "\n",
    "Return the root node of a binary search tree that matches the given `preorder` traversal.\n",
    "\n",
    "(Recall that a binary search tree is a binary tree where for every node, any descendant of `node.left` has a value `< node.val`, and any descendant of `node.right` has a value `> node.val`.  Also recall that a preorder traversal displays the value of the `node` first, then traverses `node.left`, then traverses `node.right`.)\n",
    "\n",
    " \n",
    "\n",
    "## Example 1:\n",
    "\n",
    "    Input: [8,5,1,7,10,12]\n",
    "    Output: [8,5,10,1,7,null,12]#\n",
    "\n",
    "![avatar](/Users/dingzijian/Desktop/假期/April_challenge_letcode-/Ding/1266.png)\n"
   ]
  },
  {
   "cell_type": "code",
   "execution_count": null,
   "metadata": {},
   "outputs": [],
   "source": []
  },
  {
   "cell_type": "code",
   "execution_count": null,
   "metadata": {},
   "outputs": [],
   "source": []
  }
 ],
 "metadata": {
  "file_extension": ".py",
  "kernelspec": {
   "display_name": "'Python Interactive'",
   "language": "python",
   "name": "8664ce0d-6a5a-4e39-a450-5d79a1656da3"
  },
  "language_info": {
   "codemirror_mode": {
    "name": "ipython",
    "version": 3
   },
   "file_extension": ".py",
   "mimetype": "text/x-python",
   "name": "python",
   "nbconvert_exporter": "python",
   "pygments_lexer": "ipython3",
   "version": "3.7.3-final"
  },
  "mimetype": "text/x-python",
  "name": "python",
  "npconvert_exporter": "python",
  "pygments_lexer": "ipython3",
  "version": 3
 },
 "nbformat": 4,
 "nbformat_minor": 2
}