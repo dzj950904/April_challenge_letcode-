{
 "cells": [
  {
   "cell_type": "markdown",
   "metadata": {},
   "source": [
    "# 22.04 Subarray Sum Equals K\n",
    "Given an array of integers and an integer k, you need to find the total number of continuous subarrays whose sum equals to k.\n",
    "\n",
    "Example 1:\n",
    "\n",
    "    Input:nums = [1,1,1], k = 2\n",
    "    Output: 2\n",
    "\n",
    "Note:\n",
    "\n",
    "The length of the array is in range `[1, 20,000]`.\n",
    "The range of numbers in the array is `[-1000, 1000]` and the range of the integer k is `[-1e7, 1e7]`."
   ]
  },
  {
   "cell_type": "markdown",
   "metadata": {},
   "source": [
    "###   Hide Hint #1  \n",
    "    Will Brute force work here? Try to optimize it.\n",
    "###   Hide Hint #2  \n",
    "    Can we optimize it by using some extra space?\n",
    "###   Hide Hint #3  \n",
    "    What about storing sum frequencies in a hash table? Will it be useful?\n",
    "###   Hide Hint #4  \n",
    "    sum(i,j)=sum(0,j)-sum(0,i), where sum(i,j) represents the sum of all the elements \n",
    "    from index i to j-1. Can we use this property to optimize it."
   ]
  },
  {
   "cell_type": "markdown",
   "metadata": {},
   "source": [
    "Brute Force太慢了，可以使用hashmap作为extra space。"
   ]
  },
  {
   "cell_type": "code",
   "execution_count": null,
   "metadata": {},
   "outputs": [],
   "source": [
    "class Solution(object):\n",
    "    def subarraySum(self, nums, k):\n",
    "        \"\"\"\n",
    "        :type nums: List[int]\n",
    "        :type k: int\n",
    "        :rtype: int\n",
    "        \"\"\"\n",
    "        count = 0\n",
    "        sums = 0\n",
    "        d = dict()\n",
    "        d[0] = 1\n",
    "        \n",
    "        for i in range(len(nums)):\n",
    "            sums += nums[i]\n",
    "            count += d.get(sums-k,0) #如果有sums-k就返回key对应值，否则返回0\n",
    "            d[sums] = d.get(sums,0) + 1\n",
    "        \n",
    "        return(count)"
   ]
  },
  {
   "cell_type": "markdown",
   "metadata": {},
   "source": [
    "Just wanted to share a clear explanation that helped me.\n",
    "\n",
    "First of all, the basic idea behind this code is that, whenever the sums has increased by a value of k, we've found a subarray of sums=k.\n",
    "I'll also explain why we need to initialise a 0 in the hashmap.\n",
    "Example: Let's say our elements are [1,2,1,3] and k = 3.\n",
    "and our corresponding running sums = [1,3,4,7]\n",
    "Now, if you notice the running sums array, from 1->4, there is increase of k and from 4->7, there is an increase of k. So, we've found 2 subarrays of sums=k.\n",
    "\n",
    "But, if you look at the original array, there are 3 subarrays of sums==k. Now, you'll understand why 0 comes in the picture.\n",
    "\n",
    "In the above example, 4-1=k and 7-4=k. Hence, we concluded that there are 2 subarrays.\n",
    "However, if sums==k, it should've been 3-0=k. But 0 is not present in the array. To account for this case, we include the 0.\n",
    "Now the modified sums array will look like [0,1,3,4,7]. Now, try to see for the increase of k.\n",
    "\n",
    "0->3\n",
    "1->4\n",
    "4->7\n",
    "Hence, 3 sub arrays of sums=k\n",
    "This clarified some confusions I had while doing this problem.\n",
    "\n",
    "\n",
    "[原文链接](https://leetcode.com/problems/subarray-sum-equals-k/discuss/341399/Python-clear-explanation-with-code-and-example)\n",
    "\n",
    "\n"
   ]
  },
  {
   "cell_type": "markdown",
   "metadata": {},
   "source": [
    "***\n",
    "***"
   ]
  },
  {
   "cell_type": "markdown",
   "metadata": {},
   "source": [
    "# 23.04 Bitwise AND of Numbers Range\n",
    "\n",
    "Given a range `[m, n]` where 0 <= m <= n <= 2147483647, return the bitwise AND of all numbers in this range, inclusive.\n",
    "\n",
    "Example 1:\n",
    "\n",
    "    Input: [5,7]\n",
    "    Output: 4\n",
    "\n",
    "Example 2:\n",
    "\n",
    "    Input: [0,1]\n",
    "    Output: 0"
   ]
  },
  {
   "cell_type": "code",
   "execution_count": null,
   "metadata": {},
   "outputs": [],
   "source": [
    "class Solution:\n",
    "    def rangeBitwiseAnd(self, m: int, n: int) -> int:\n",
    "        i = 0 \n",
    "        while m!=n:\n",
    "            n >>= 1\n",
    "            m >>= 1\n",
    "            i += 1\n",
    "        return m << i"
   ]
  },
  {
   "cell_type": "markdown",
   "metadata": {},
   "source": [
    "经典的位运算题目，并不用遍历所有范围内的数字，通过nm的二进制向右移动找到最大的相同“头部”，这段是在递增区间内不会变的。然后再向左计位补零得到输出值。\n"
   ]
  },
  {
   "cell_type": "markdown",
   "metadata": {},
   "source": [
    "***\n",
    "***"
   ]
  },
  {
   "cell_type": "markdown",
   "metadata": {},
   "source": [
    "# 24.04   LRU Cache\n",
    "\n",
    "Design and implement a data structure for [Least Recently Used (LRU) cache](https://en.wikipedia.org/wiki/Cache_replacement_policies#LRU). It should support the following operations: `get` and `put`.\n",
    "\n",
    "`get(key)` - Get the value (will always be positive) of the key if the key exists in the cache, otherwise return -1.\n",
    "\n",
    "`put(key, value)` - Set or insert the value if the key is not already present. When the cache reached its capacity, it should invalidate the least recently used item before inserting a new item.\n",
    "\n",
    "The cache is initialized with a positive capacity.\n",
    "\n",
    "### Follow up:\n",
    "Could you do both operations in O(1) time complexity?\n",
    "\n",
    "### Example:\n",
    "\n",
    "    LRUCache cache = new LRUCache( 2 /* capacity */ );\n",
    "\n",
    "    cache.put(1, 1);\n",
    "    \n",
    "    cache.put(2, 2);\n",
    "    \n",
    "    cache.get(1);       // returns 1\n",
    "    \n",
    "    cache.put(3, 3);    // evicts key 2\n",
    "    \n",
    "    cache.get(2);       // returns -1 (not found)\n",
    "    \n",
    "    cache.put(4, 4);    // evicts key 1\n",
    "    \n",
    "    cache.get(1);       // returns -1 (not found)\n",
    "    \n",
    "    cache.get(3);       // returns 3\n",
    "    \n",
    "    cache.get(4);       // returns 4\n"
   ]
  },
  {
   "cell_type": "code",
   "execution_count": null,
   "metadata": {},
   "outputs": [],
   "source": [
    "class LRUCache:\n",
    "\n",
    "    def __init__(self, capacity: int):\n",
    "        \n",
    "\n",
    "    def get(self, key: int) -> int:\n",
    "        \n",
    "\n",
    "    def put(self, key: int, value: int) -> None:\n",
    "        \n",
    "\n",
    "\n",
    "# Your LRUCache object will be instantiated and called as such:\n",
    "# obj = LRUCache(capacity)\n",
    "# param_1 = obj.get(key)\n",
    "# obj.put(key,value)"
   ]
  },
  {
   "cell_type": "code",
   "execution_count": null,
   "metadata": {},
   "outputs": [],
   "source": []
  },
  {
   "cell_type": "markdown",
   "metadata": {},
   "source": [
    "***\n",
    "***"
   ]
  },
  {
   "cell_type": "code",
   "execution_count": null,
   "metadata": {},
   "outputs": [],
   "source": []
  }
 ],
 "metadata": {
  "language_info": {
   "codemirror_mode": {
    "name": "ipython",
    "version": 3
   },
   "file_extension": ".py",
   "mimetype": "text/x-python",
   "name": "python",
   "nbconvert_exporter": "python",
   "pygments_lexer": "ipython3",
   "version": 3
  },
  "orig_nbformat": 2
 },
 "nbformat": 4,
 "nbformat_minor": 2
}