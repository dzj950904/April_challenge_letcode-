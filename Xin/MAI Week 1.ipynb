{
 "cells": [
  {
   "cell_type": "markdown",
   "metadata": {},
   "source": [
    "## 5.1 First Bad Version\n",
    "You are a product manager and currently leading a team to develop a new product. Unfortunately, the latest version of your product fails the quality check. Since each version is developed based on the previous version, all the versions after a bad version are also bad.\n",
    "\n",
    "Suppose you have n versions [1, 2, ..., n] and you want to find out the first bad one, which causes all the following ones to be bad.\n",
    "\n",
    "You are given an API bool isBadVersion(version) which will return whether version is bad. Implement a function to find the first bad version. You should minimize the number of calls to the API.\n",
    "\n",
    "#### Example:\n",
    "\n",
    "Given n = 5, and version = 4 is the first bad version.\n",
    "\n",
    "call isBadVersion(3) -> false\n",
    "call isBadVersion(5) -> true\n",
    "call isBadVersion(4) -> true\n",
    "\n",
    "Then 4 is the first bad version. "
   ]
  },
  {
   "cell_type": "code",
   "execution_count": 3,
   "metadata": {},
   "outputs": [],
   "source": [
    "# The isBadVersion API is already defined for you.\n",
    "# @param version, an integer\n",
    "# @return a bool\n",
    "# def isBadVersion(version):\n",
    "\n",
    "class Solution:\n",
    "    def firstBadVersion(self, n):\n",
    "        \"\"\"\n",
    "        :type n: int\n",
    "        :rtype: int\n",
    "        \"\"\"\n",
    "       \n",
    "        low, high = 0, n\n",
    "        while low < high:\n",
    "            mid = low + (high-low) // 2\n",
    "            if isBadVersion(mid) is True:\n",
    "                high = mid\n",
    "            elif isBadVersion(mid) is False:\n",
    "                low = mid+1\n",
    "        return low"
   ]
  },
  {
   "cell_type": "markdown",
   "metadata": {},
   "source": [
    "## 5.2 Jewels and Stones\n",
    "You're given strings J representing the types of stones that are jewels, and S representing the stones you have.  Each character in S is a type of stone you have.  You want to know how many of the stones you have are also jewels.\n",
    "\n",
    "The letters in J are guaranteed distinct, and all characters in J and S are letters. Letters are case sensitive, so \"a\" is considered a different type of stone from \"A\".\n",
    "\n",
    "#### Example 1:\n",
    "\n",
    "Input: J = \"aA\", S = \"aAAbbbb\"\n",
    "Output: 3\n",
    "Example 2:\n",
    "\n",
    "Input: J = \"z\", S = \"ZZ\"\n",
    "Output: 0\n",
    "Note:\n",
    "\n",
    "S and J will consist of letters and have length at most 50.\n",
    "The characters in J are distinct."
   ]
  },
  {
   "cell_type": "code",
   "execution_count": 1,
   "metadata": {},
   "outputs": [],
   "source": [
    "class Solution:\n",
    "    def numJewelsInStones(self, J, S) :\n",
    "        Stone = {}\n",
    "        for s in S:\n",
    "            if s not in Stone:\n",
    "                Stone[s] = 1\n",
    "            else:\n",
    "                Stone[s]+=1 #先遍历一遍Stone\n",
    "        n = 0\n",
    "        for j in J:\n",
    "            if j in Stone:\n",
    "                n+=Stone[j]#实现了 sum（s in J if s in S）\n",
    "        return total"
   ]
  },
  {
   "cell_type": "markdown",
   "metadata": {},
   "source": [
    "#### 方法二 是更快的方法，利用了set（）"
   ]
  },
  {
   "cell_type": "code",
   "execution_count": 3,
   "metadata": {},
   "outputs": [],
   "source": [
    "class Solution:\n",
    "    def numJewelsInStones(self, J, S) :\n",
    "        jewels = set(J)#if you use list here, it's same.but do you know why we choose set here not list()?\n",
    "        count = 0\n",
    "        for stone in S:\n",
    "            if stone in jewels:\n",
    "                count += 1\n",
    "                \n",
    "        return count"
   ]
  },
  {
   "cell_type": "markdown",
   "metadata": {},
   "source": [
    "## 5.3   Ransom Note\n",
    "Given an arbitrary ransom note string and another string containing letters from all the magazines, write a function that will return true if the ransom note can be constructed from the magazines ; otherwise, it will return false.\n",
    "\n",
    "Each letter in the magazine string can only be used once in your ransom note.\n",
    "\n",
    "#### Note:\n",
    "You may assume that both strings contain only lowercase letters.\n",
    "\n",
    "canConstruct(\"a\", \"b\") -> false\n",
    "canConstruct(\"aa\", \"ab\") -> false\n",
    "canConstruct(\"aa\", \"aab\") -> true"
   ]
  },
  {
   "cell_type": "code",
   "execution_count": 1,
   "metadata": {},
   "outputs": [],
   "source": [
    "class Solution:\n",
    "    def canConstruct(self, ransomNote: str, magazine: str) -> bool:\n",
    "        dicts={} #采用词典的方法来进行对比\n",
    "        for i in ransomNote:\n",
    "            if i not in  dicts:\n",
    "                dicts[i]=1\n",
    "            else:\n",
    "                occr =dicts.get(i)+1\n",
    "                dicts[i]=occr\n",
    "        # print(dicts)\n",
    "        for key in dicts:\n",
    "            cnt = dicts[key]\n",
    "            if magazine.count(key)<cnt:\n",
    "                return False\n",
    "            \n",
    "        return True"
   ]
  },
  {
   "cell_type": "markdown",
   "metadata": {},
   "source": [
    "## Number Complement\n",
    "Given a positive integer, output its complement number. The complement strategy is to flip the bits of its binary representation.\n",
    "\n",
    " \n",
    "\n",
    "#### Example 1:\n",
    "\n",
    "Input: 5\n",
    "Output: 2\n",
    "Explanation: The binary representation of 5 is 101 (no leading zero bits), and its complement is 010. So you need to output 2.\n",
    " \n",
    "\n",
    "#### Example 2:\n",
    "\n",
    "Input: 1\n",
    "Output: 0\n",
    "Explanation: The binary representation of 1 is 1 (no leading zero bits), and its complement is 0. So you need to output 0.\n",
    " \n",
    "\n",
    "#### Note:\n",
    "\n",
    "The given integer is guaranteed to fit within the range of a 32-bit signed integer.\n",
    "You could assume no leading zero bit in the integer’s binary representation.\n",
    "This question is the same as 1009: https://leetcode.com/problems/complement-of-base-10-integer/"
   ]
  },
  {
   "cell_type": "code",
   "execution_count": 3,
   "metadata": {},
   "outputs": [],
   "source": [
    "class Solution:\n",
    "    def findComplement(self, num):\n",
    "        \"\"\"\n",
    "        :type num: int\n",
    "        :rtype: int\n",
    "        \"\"\"\n",
    "        bin_num = bin(num)[2:]# convert to 2 bin\n",
    "        bin_ans = map(lambda x: '0' if x == '1' else '1', bin_num)\n",
    "        return int(''.join(bin_ans), 2)# 使用.join() 生成新的字符串bin_ans\n"
   ]
  },
  {
   "cell_type": "code",
   "execution_count": 2,
   "metadata": {},
   "outputs": [],
   "source": [
    "#****注意到求补数，就是把现有的二进制表示各位进行了0,1翻转，很容易想到异或操作。那么异或成1还是0呢？很简单的，我们需要把1变成0，以及0变成1，所以应该异或上每位都是1的二进制数。\n",
    "\n",
    "#如何获得二进制位数有多少呢？我是用的是len(bin(num)-2)的方式。如何构建全1的二进制数字？我是用的是用1移位，然后-1的方式\n",
    "class Solution:\n",
    "    def findComplement(self, num):\n",
    "        \"\"\"\n",
    "        :type num: int\n",
    "        :rtype: int\n",
    "        \"\"\"\n",
    "        return num ^ ((1 << (len(bin(num)) - 2)) - 1)\n",
    "\n",
    "#版权声明：本文为CSDN博主「负雪明烛」的原创文章，遵循CC 4.0 BY-SA版权协议，转载请附上原文出处链接及本声明。\n",
    "#原文链接：https://blog.csdn.net/fuxuemingzhu/java/article/details/54562124"
   ]
  },
  {
   "cell_type": "markdown",
   "metadata": {},
   "source": [
    "## First Unique Character in a String\n",
    "Given a string, find the first non-repeating character in it and return it's index. If it doesn't exist, return -1.\n",
    "\n",
    "#### Examples:\n",
    "\n",
    "s = \"leetcode\"\n",
    "return 0.\n",
    "\n",
    "s = \"loveleetcode\",\n",
    "return 2.\n",
    "\n",
    "#### Note: You may assume the string contain only lowercase letters."
   ]
  },
  {
   "cell_type": "code",
   "execution_count": null,
   "metadata": {},
   "outputs": [],
   "source": [
    "class Solution:\n",
    "    def firstUniqChar(self, s: str) -> int:\n",
    "        count = collections.Counter(s) ##from Collections import Counter()\n",
    "        \n",
    "        for i,c in count.items(): #can also use enumerate(s)\n",
    "            if v == 1:\n",
    "                return s.index(k)     \n",
    "        return -1"
   ]
  }
 ],
 "metadata": {
  "kernelspec": {
   "display_name": "Python 3",
   "language": "python",
   "name": "python3"
  },
  "language_info": {
   "codemirror_mode": {
    "name": "ipython",
    "version": 3
   },
   "file_extension": ".py",
   "mimetype": "text/x-python",
   "name": "python",
   "nbconvert_exporter": "python",
   "pygments_lexer": "ipython3",
   "version": "3.7.6"
  }
 },
 "nbformat": 4,
 "nbformat_minor": 4
}
