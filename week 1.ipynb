{
 "cells": [
  {
   "cell_type": "markdown",
   "metadata": {},
   "source": [
    "第一周\n",
    "\n",
    "(01.04.2020 - 07.04.2020)"
   ]
  },
  {
   "cell_type": "markdown",
   "metadata": {},
   "source": [
    "01.04.2020\n",
    "Single number\n",
    "\n",
    "Given a non-empty array of integers, every element appears twice except for one. Find that single one.\n",
    "\n",
    "Note:\n",
    "\n",
    "Your algorithm should have a linear runtime complexity. Could you implement it without using extra memory?\n",
    "\n",
    "Example 1:\n",
    "\n",
    "Input: [2,2,1]\n",
    "Output: 1\n",
    "Example 2:\n",
    "\n",
    "Input: [4,1,2,1,2]\n",
    "Output: 4"
   ]
  },
  {
   "cell_type": "code",
   "execution_count": 13,
   "metadata": {},
   "outputs": [],
   "source": [
    "def singleNumber(nums):\n",
    "     return 2*sum(set(nums))-sum(nums)"
   ]
  },
  {
   "cell_type": "markdown",
   "metadata": {},
   "source": [
    "Tset"
   ]
  },
  {
   "cell_type": "code",
   "execution_count": 39,
   "metadata": {},
   "outputs": [
    {
     "output_type": "execute_result",
     "data": {
      "text/plain": "1"
     },
     "metadata": {},
     "execution_count": 39
    }
   ],
   "source": [
    "tmp=[2,2,1]\n",
    "dst = singleNumber(tmp)\n",
    "dst"
   ]
  },
  {
   "cell_type": "markdown",
   "metadata": {},
   "source": [
    "***\n",
    "\n",
    "***"
   ]
  },
  {
   "cell_type": "markdown",
   "metadata": {},
   "source": [
    "02.04.2020 \n",
    "Happy Number\n",
    "\n",
    "Write an algorithm to determine if a number is \"happy\".\n",
    "\n",
    "A happy number is a number defined by the following process: Starting with any positive integer, replace the number by the sum of the squares of its digits, and repeat the process until the number equals 1 (where it will stay), or it loops endlessly in a cycle which does not include 1. Those numbers for which this process ends in 1 are happy numbers.\n",
    "\n",
    "Example: \n",
    "\n",
    "Input: 19\n",
    "Output: true\n",
    "\n",
    "Explanation: \n",
    "\n",
    "12 + 92 = 82\n",
    "\n",
    "82 + 22 = 68\n",
    "\n",
    "62 + 82 = 100\n",
    "\n",
    "12 + 02 + 02 = 1"
   ]
  },
  {
   "cell_type": "code",
   "execution_count": 19,
   "metadata": {},
   "outputs": [],
   "source": [
    "def isHappy(n) -> bool:\n",
    "        dst = set([n,4]) # to find the initial value, and 4 is a close loop\n",
    "        while 1:\n",
    "            n = sum(int(i)**2 for i in str(n)) # get the transformation\n",
    "            if n == 1:\n",
    "                return True #satisfied,and return\n",
    "            elif n in dst:\n",
    "                return False\n",
    "            dst.union([n])#expand the distinguish library"
   ]
  },
  {
   "cell_type": "markdown",
   "metadata": {},
   "source": [
    "Test"
   ]
  },
  {
   "cell_type": "code",
   "execution_count": 36,
   "metadata": {},
   "outputs": [
    {
     "output_type": "execute_result",
     "data": {
      "text/plain": "True"
     },
     "metadata": {},
     "execution_count": 36
    }
   ],
   "source": [
    "tmp = 19\n",
    "isHappy(tmp)"
   ]
  },
  {
   "cell_type": "markdown",
   "metadata": {},
   "source": [
    "***\n",
    "\n",
    "***\n"
   ]
  },
  {
   "cell_type": "markdown",
   "metadata": {},
   "source": [
    "03.04.2020 Maximum Subarray\n",
    "\n",
    "Given an integer array nums, find the contiguous subarray (containing at least one number) which has the largest sum and return its sum.\n",
    "\n",
    "Example:\n",
    "\n",
    "Input: [-2,1,-3,4,-1,2,1,-5,4],\n",
    "Output: 6\n",
    "Explanation: [4,-1,2,1] has the largest sum = 6.\n",
    "Follow up:\n",
    "\n",
    "If you have figured out the O(n) solution, try coding another solution using the divide and conquer approach, which is more subtle.\n"
   ]
  },
  {
   "cell_type": "code",
   "execution_count": 21,
   "metadata": {},
   "outputs": [],
   "source": [
    "def maxSubArray(nums) -> int:\n",
    "        tmp = dst = nums[0] #initialize\n",
    "        for num in nums[1:]:\n",
    "            tmp = max(num, tmp + num)#the begin of the array must be a non-negative value\n",
    "            \n",
    "            dst = max(dst, tmp)\n",
    "        return dst "
   ]
  },
  {
   "cell_type": "code",
   "execution_count": 40,
   "metadata": {},
   "outputs": [
    {
     "output_type": "execute_result",
     "data": {
      "text/plain": "6"
     },
     "metadata": {},
     "execution_count": 40
    }
   ],
   "source": [
    "tmp = [-2,1,-3,4,-1,2,1,-5,4]\n",
    "maxSubArray(tmp)"
   ]
  },
  {
   "cell_type": "markdown",
   "metadata": {},
   "source": [
    "***\n",
    "\n",
    "***"
   ]
  },
  {
   "cell_type": "markdown",
   "metadata": {},
   "source": [
    "04.04.2020 Move Zeros\n",
    "\n",
    "\n",
    "Given an array nums, write a function to move all 0's to the end of it while maintaining the relative order of the non-zero elements.\n",
    "\n",
    "Example:\n",
    "\n",
    "Input: [0,1,0,3,12]\n",
    "Output: [1,3,12,0,0]\n",
    "Note:\n",
    "\n",
    "You must do this in-place without making a copy of the array.\n",
    "Minimize the total number of operations."
   ]
  },
  {
   "cell_type": "markdown",
   "metadata": {},
   "source": [
    "Hide Hint #1  \n",
    "In-place means we should not be allocating any space for extra array. But we are allowed to modify the existing array. However, as a first step, try coming up with a solution that makes use of additional space. For this problem as well, first apply the idea discussed using an additional array and the in-place solution will pop up eventually.\n",
    "\n",
    "\n",
    "Hide Hint #2  \n",
    "A two-pointer approach could be helpful here. The idea would be to have one pointer for iterating the array and another pointer that just works on the non-zero elements of the array."
   ]
  },
  {
   "cell_type": "code",
   "execution_count": 28,
   "metadata": {},
   "outputs": [],
   "source": [
    "def moveZeroes(nums):\n",
    "        append_times=nums.count(0)\n",
    "        for i in range(append_times):\n",
    "            nums.remove(0) #  Delete the front zero\n",
    "            nums.append(0) # append it at the end of nums, the times of the addition and substraction shall be equal"
   ]
  },
  {
   "cell_type": "code",
   "execution_count": 41,
   "metadata": {},
   "outputs": [
    {
     "output_type": "execute_result",
     "data": {
      "text/plain": "[1, 3, 12, 0, 0]"
     },
     "metadata": {},
     "execution_count": 41
    }
   ],
   "source": [
    "tmp = [0,1,0,3,12] \n",
    "moveZeroes(tmp)\n",
    "tmp"
   ]
  },
  {
   "cell_type": "markdown",
   "metadata": {},
   "source": [
    "***\n",
    "***"
   ]
  },
  {
   "cell_type": "code",
   "execution_count": null,
   "metadata": {},
   "outputs": [],
   "source": [
    "05.04.2020\n",
    "\n",
    "Best Time to Buy and Sell Stock II\n",
    "\n",
    "Say you have an array for which the ith element is the price of a given stock on day i.\n",
    "\n",
    "Design an algorithm to find the maximum profit. You may complete as many transactions as you like (i.e., buy one and sell one share of the stock multiple times).\n",
    "\n",
    "Note: You may not engage in multiple transactions at the same time (i.e., you must sell the stock before you buy again).\n",
    "\n",
    "Example 1:\n",
    "\n",
    "Input: [7,1,5,3,6,4]\n",
    "Output: 7\n",
    "Explanation: Buy on day 2 (price = 1) and sell on day 3 (price = 5), profit = 5-1 = 4.\n",
    "             Then buy on day 4 (price = 3) and sell on day 5 (price = 6), profit = 6-3 = 3.\n",
    "Example 2:\n",
    "\n",
    "Input: [1,2,3,4,5]\n",
    "Output: 4\n",
    "Explanation: Buy on day 1 (price = 1) and sell on day 5 (price = 5), profit = 5-1 = 4.\n",
    "             Note that you cannot buy on day 1, buy on day 2 and sell them later, as you are\n",
    "             engaging multiple transactions at the same time. You must sell before buying again.\n",
    "Example 3:\n",
    "\n",
    "Input: [7,6,4,3,1]\n",
    "Output: 0\n",
    "Explanation: In this case, no transaction is done, i.e. max profit = 0."
   ]
  },
  {
   "cell_type": "code",
   "execution_count": null,
   "metadata": {},
   "outputs": [],
   "source": []
  },
  {
   "cell_type": "markdown",
   "metadata": {},
   "source": [
    "class Solution:
     'def maxProfit(self, prices: List[int]) -> int:'
       ' if len(prices)<2:'
           ' return 0'
        'profit = []'
       ' for i in range(1,len(prices)):'
            'if prices[i] > prices[i-1]: '
               ' profit.append(prices[i]-prices[i-1])'
                
      '  return sum(profit)'
        "
   ]
  },
  {
   "cell_type": "code",
   "execution_count": null,
   "metadata": {},
   "outputs": [],
   "source": []
  },
  {
   "cell_type": "markdown",
   "metadata": {},
   "source": [
    "***\n",
    "***"
   ]
  },
  {
   "cell_type": "markdown",
   "metadata": {},
   "source": [
    "06.04.2020\n",
    "Group Anagrams\n",
    "\n",
    "Given an array of strings, group anagrams together.\n",
    "\n",
    "Example:\n",
    "\n",
    "Input: [\"eat\", \"tea\", \"tan\", \"ate\", \"nat\", \"bat\"],\n",
    "Output:\n",
    "[\n",
    "  [\"ate\",\"eat\",\"tea\"],\n",
    "  [\"nat\",\"tan\"],\n",
    "  [\"bat\"]\n",
    "]\n",
    "Note:\n",
    "\n",
    "All inputs will be in lowercase.\n",
    "The order of your output does not matter."
   ]
  },
  {
   "cell_type": "code",
   "execution_count": null,
   "metadata": {},
   "outputs": [],
   "source": []
  },
  {
   "cell_type": "markdown",
   "metadata": {},
   "source": [
    "test\n"
   ]
  },
  {
   "cell_type": "code",
   "execution_count": null,
   "metadata": {},
   "outputs": [],
   "source": []
  },
  {
   "cell_type": "markdown",
   "metadata": {},
   "source": [
    "***\n",
    "***"
   ]
  },
  {
   "cell_type": "code",
   "execution_count": null,
   "metadata": {},
   "outputs": [],
   "source": []
  }
 ],
 "metadata": {
  "kernelspec": {
   "name": "8664ce0d-6a5a-4e39-a450-5d79a1656da3",
   "display_name": "'Python Interactive'"
  }
 },
 "nbformat": 4,
 "nbformat_minor": 4
}
